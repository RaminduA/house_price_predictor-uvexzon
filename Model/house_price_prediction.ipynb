{
  "nbformat": 4,
  "nbformat_minor": 0,
  "metadata": {
    "colab": {
      "provenance": []
    },
    "kernelspec": {
      "name": "python3",
      "display_name": "Python 3"
    },
    "language_info": {
      "name": "python"
    }
  },
  "cells": [
    {
      "cell_type": "markdown",
      "source": [
        "# **1. Data Collection and Preprocessing**"
      ],
      "metadata": {
        "id": "TslIO12Bv8lB"
      }
    },
    {
      "cell_type": "markdown",
      "source": [
        "## **Data Collection**"
      ],
      "metadata": {
        "id": "AOgRixX_wJrr"
      }
    },
    {
      "cell_type": "code",
      "source": [
        "from google.colab import drive\n",
        "drive.mount('/content/drive')"
      ],
      "metadata": {
        "id": "zFMUubTnwItj",
        "colab": {
          "base_uri": "https://localhost:8080/"
        },
        "outputId": "8e8ba004-6084-432d-fa01-737d7ddf35d9"
      },
      "execution_count": 39,
      "outputs": [
        {
          "output_type": "stream",
          "name": "stdout",
          "text": [
            "Drive already mounted at /content/drive; to attempt to forcibly remount, call drive.mount(\"/content/drive\", force_remount=True).\n"
          ]
        }
      ]
    },
    {
      "cell_type": "code",
      "source": [
        "import pandas as pd\n",
        "\n",
        "# Import the datasets\n",
        "sample_submission = pd.read_csv('/content/drive/MyDrive/Datasets/uvexzon-house-price/sample_submission.csv')\n",
        "test_df = pd.read_csv('/content/drive/MyDrive/Datasets/uvexzon-house-price/test.csv')\n",
        "train_df = pd.read_csv('/content/drive/MyDrive/Datasets/uvexzon-house-price/train.csv')"
      ],
      "metadata": {
        "id": "7dHu1AJmGO_4"
      },
      "execution_count": 40,
      "outputs": []
    },
    {
      "cell_type": "markdown",
      "source": [
        "## **Data Cleaning**"
      ],
      "metadata": {
        "id": "F8JrGFaDwMi8"
      }
    },
    {
      "cell_type": "code",
      "source": [
        "# Define the columns to impute\n",
        "columns_to_impute = [\n",
        "    'Alley', 'BsmtQual', 'BsmtCond', 'BsmtExposure', 'BsmtFinType1', 'BsmtFinType2', 'FireplaceQu', 'GarageType',\n",
        "    'GarageFinish', 'GarageQual', 'GarageCond', 'PoolQC', 'Fence', 'MiscFeature'\n",
        "]\n",
        "\n",
        "# Impute missing values with 'NA' for specified columns\n",
        "train_df[columns_to_impute] = train_df[columns_to_impute].fillna('NA')\n",
        "test_df[columns_to_impute] = test_df[columns_to_impute].fillna('NA')"
      ],
      "metadata": {
        "id": "CuHTPgO213ch"
      },
      "execution_count": 41,
      "outputs": []
    },
    {
      "cell_type": "code",
      "execution_count": 42,
      "metadata": {
        "id": "bakNeWU8vsVF",
        "colab": {
          "base_uri": "https://localhost:8080/"
        },
        "outputId": "4cd4073b-a6d7-43c0-bb37-d5ad7663fedd"
      },
      "outputs": [
        {
          "output_type": "stream",
          "name": "stdout",
          "text": [
            "<class 'pandas.core.frame.DataFrame'>\n",
            "RangeIndex: 1460 entries, 0 to 1459\n",
            "Data columns (total 81 columns):\n",
            " #   Column         Non-Null Count  Dtype  \n",
            "---  ------         --------------  -----  \n",
            " 0   Id             1460 non-null   int64  \n",
            " 1   MSSubClass     1460 non-null   int64  \n",
            " 2   MSZoning       1460 non-null   object \n",
            " 3   LotFrontage    1201 non-null   float64\n",
            " 4   LotArea        1460 non-null   int64  \n",
            " 5   Street         1460 non-null   object \n",
            " 6   Alley          1460 non-null   object \n",
            " 7   LotShape       1460 non-null   object \n",
            " 8   LandContour    1460 non-null   object \n",
            " 9   Utilities      1460 non-null   object \n",
            " 10  LotConfig      1460 non-null   object \n",
            " 11  LandSlope      1460 non-null   object \n",
            " 12  Neighborhood   1460 non-null   object \n",
            " 13  Condition1     1460 non-null   object \n",
            " 14  Condition2     1460 non-null   object \n",
            " 15  BldgType       1460 non-null   object \n",
            " 16  HouseStyle     1460 non-null   object \n",
            " 17  OverallQual    1460 non-null   int64  \n",
            " 18  OverallCond    1460 non-null   int64  \n",
            " 19  YearBuilt      1460 non-null   int64  \n",
            " 20  YearRemodAdd   1460 non-null   int64  \n",
            " 21  RoofStyle      1460 non-null   object \n",
            " 22  RoofMatl       1460 non-null   object \n",
            " 23  Exterior1st    1460 non-null   object \n",
            " 24  Exterior2nd    1460 non-null   object \n",
            " 25  MasVnrType     588 non-null    object \n",
            " 26  MasVnrArea     1452 non-null   float64\n",
            " 27  ExterQual      1460 non-null   object \n",
            " 28  ExterCond      1460 non-null   object \n",
            " 29  Foundation     1460 non-null   object \n",
            " 30  BsmtQual       1460 non-null   object \n",
            " 31  BsmtCond       1460 non-null   object \n",
            " 32  BsmtExposure   1460 non-null   object \n",
            " 33  BsmtFinType1   1460 non-null   object \n",
            " 34  BsmtFinSF1     1460 non-null   int64  \n",
            " 35  BsmtFinType2   1460 non-null   object \n",
            " 36  BsmtFinSF2     1460 non-null   int64  \n",
            " 37  BsmtUnfSF      1460 non-null   int64  \n",
            " 38  TotalBsmtSF    1460 non-null   int64  \n",
            " 39  Heating        1460 non-null   object \n",
            " 40  HeatingQC      1460 non-null   object \n",
            " 41  CentralAir     1460 non-null   object \n",
            " 42  Electrical     1459 non-null   object \n",
            " 43  1stFlrSF       1460 non-null   int64  \n",
            " 44  2ndFlrSF       1460 non-null   int64  \n",
            " 45  LowQualFinSF   1460 non-null   int64  \n",
            " 46  GrLivArea      1460 non-null   int64  \n",
            " 47  BsmtFullBath   1460 non-null   int64  \n",
            " 48  BsmtHalfBath   1460 non-null   int64  \n",
            " 49  FullBath       1460 non-null   int64  \n",
            " 50  HalfBath       1460 non-null   int64  \n",
            " 51  BedroomAbvGr   1460 non-null   int64  \n",
            " 52  KitchenAbvGr   1460 non-null   int64  \n",
            " 53  KitchenQual    1460 non-null   object \n",
            " 54  TotRmsAbvGrd   1460 non-null   int64  \n",
            " 55  Functional     1460 non-null   object \n",
            " 56  Fireplaces     1460 non-null   int64  \n",
            " 57  FireplaceQu    1460 non-null   object \n",
            " 58  GarageType     1460 non-null   object \n",
            " 59  GarageYrBlt    1379 non-null   float64\n",
            " 60  GarageFinish   1460 non-null   object \n",
            " 61  GarageCars     1460 non-null   int64  \n",
            " 62  GarageArea     1460 non-null   int64  \n",
            " 63  GarageQual     1460 non-null   object \n",
            " 64  GarageCond     1460 non-null   object \n",
            " 65  PavedDrive     1460 non-null   object \n",
            " 66  WoodDeckSF     1460 non-null   int64  \n",
            " 67  OpenPorchSF    1460 non-null   int64  \n",
            " 68  EnclosedPorch  1460 non-null   int64  \n",
            " 69  3SsnPorch      1460 non-null   int64  \n",
            " 70  ScreenPorch    1460 non-null   int64  \n",
            " 71  PoolArea       1460 non-null   int64  \n",
            " 72  PoolQC         1460 non-null   object \n",
            " 73  Fence          1460 non-null   object \n",
            " 74  MiscFeature    1460 non-null   object \n",
            " 75  MiscVal        1460 non-null   int64  \n",
            " 76  MoSold         1460 non-null   int64  \n",
            " 77  YrSold         1460 non-null   int64  \n",
            " 78  SaleType       1460 non-null   object \n",
            " 79  SaleCondition  1460 non-null   object \n",
            " 80  SalePrice      1460 non-null   int64  \n",
            "dtypes: float64(3), int64(35), object(43)\n",
            "memory usage: 924.0+ KB\n"
          ]
        }
      ],
      "source": [
        "train_df.info()"
      ]
    },
    {
      "cell_type": "code",
      "source": [
        "test_df.info()"
      ],
      "metadata": {
        "colab": {
          "base_uri": "https://localhost:8080/"
        },
        "id": "C0l7SYaviHJd",
        "outputId": "c824c70c-0fa9-41c2-dc2f-d9b4020950c7"
      },
      "execution_count": 43,
      "outputs": [
        {
          "output_type": "stream",
          "name": "stdout",
          "text": [
            "<class 'pandas.core.frame.DataFrame'>\n",
            "RangeIndex: 1459 entries, 0 to 1458\n",
            "Data columns (total 80 columns):\n",
            " #   Column         Non-Null Count  Dtype  \n",
            "---  ------         --------------  -----  \n",
            " 0   Id             1459 non-null   int64  \n",
            " 1   MSSubClass     1459 non-null   int64  \n",
            " 2   MSZoning       1455 non-null   object \n",
            " 3   LotFrontage    1232 non-null   float64\n",
            " 4   LotArea        1459 non-null   int64  \n",
            " 5   Street         1459 non-null   object \n",
            " 6   Alley          1459 non-null   object \n",
            " 7   LotShape       1459 non-null   object \n",
            " 8   LandContour    1459 non-null   object \n",
            " 9   Utilities      1457 non-null   object \n",
            " 10  LotConfig      1459 non-null   object \n",
            " 11  LandSlope      1459 non-null   object \n",
            " 12  Neighborhood   1459 non-null   object \n",
            " 13  Condition1     1459 non-null   object \n",
            " 14  Condition2     1459 non-null   object \n",
            " 15  BldgType       1459 non-null   object \n",
            " 16  HouseStyle     1459 non-null   object \n",
            " 17  OverallQual    1459 non-null   int64  \n",
            " 18  OverallCond    1459 non-null   int64  \n",
            " 19  YearBuilt      1459 non-null   int64  \n",
            " 20  YearRemodAdd   1459 non-null   int64  \n",
            " 21  RoofStyle      1459 non-null   object \n",
            " 22  RoofMatl       1459 non-null   object \n",
            " 23  Exterior1st    1458 non-null   object \n",
            " 24  Exterior2nd    1458 non-null   object \n",
            " 25  MasVnrType     565 non-null    object \n",
            " 26  MasVnrArea     1444 non-null   float64\n",
            " 27  ExterQual      1459 non-null   object \n",
            " 28  ExterCond      1459 non-null   object \n",
            " 29  Foundation     1459 non-null   object \n",
            " 30  BsmtQual       1459 non-null   object \n",
            " 31  BsmtCond       1459 non-null   object \n",
            " 32  BsmtExposure   1459 non-null   object \n",
            " 33  BsmtFinType1   1459 non-null   object \n",
            " 34  BsmtFinSF1     1458 non-null   float64\n",
            " 35  BsmtFinType2   1459 non-null   object \n",
            " 36  BsmtFinSF2     1458 non-null   float64\n",
            " 37  BsmtUnfSF      1458 non-null   float64\n",
            " 38  TotalBsmtSF    1458 non-null   float64\n",
            " 39  Heating        1459 non-null   object \n",
            " 40  HeatingQC      1459 non-null   object \n",
            " 41  CentralAir     1459 non-null   object \n",
            " 42  Electrical     1459 non-null   object \n",
            " 43  1stFlrSF       1459 non-null   int64  \n",
            " 44  2ndFlrSF       1459 non-null   int64  \n",
            " 45  LowQualFinSF   1459 non-null   int64  \n",
            " 46  GrLivArea      1459 non-null   int64  \n",
            " 47  BsmtFullBath   1457 non-null   float64\n",
            " 48  BsmtHalfBath   1457 non-null   float64\n",
            " 49  FullBath       1459 non-null   int64  \n",
            " 50  HalfBath       1459 non-null   int64  \n",
            " 51  BedroomAbvGr   1459 non-null   int64  \n",
            " 52  KitchenAbvGr   1459 non-null   int64  \n",
            " 53  KitchenQual    1458 non-null   object \n",
            " 54  TotRmsAbvGrd   1459 non-null   int64  \n",
            " 55  Functional     1457 non-null   object \n",
            " 56  Fireplaces     1459 non-null   int64  \n",
            " 57  FireplaceQu    1459 non-null   object \n",
            " 58  GarageType     1459 non-null   object \n",
            " 59  GarageYrBlt    1381 non-null   float64\n",
            " 60  GarageFinish   1459 non-null   object \n",
            " 61  GarageCars     1458 non-null   float64\n",
            " 62  GarageArea     1458 non-null   float64\n",
            " 63  GarageQual     1459 non-null   object \n",
            " 64  GarageCond     1459 non-null   object \n",
            " 65  PavedDrive     1459 non-null   object \n",
            " 66  WoodDeckSF     1459 non-null   int64  \n",
            " 67  OpenPorchSF    1459 non-null   int64  \n",
            " 68  EnclosedPorch  1459 non-null   int64  \n",
            " 69  3SsnPorch      1459 non-null   int64  \n",
            " 70  ScreenPorch    1459 non-null   int64  \n",
            " 71  PoolArea       1459 non-null   int64  \n",
            " 72  PoolQC         1459 non-null   object \n",
            " 73  Fence          1459 non-null   object \n",
            " 74  MiscFeature    1459 non-null   object \n",
            " 75  MiscVal        1459 non-null   int64  \n",
            " 76  MoSold         1459 non-null   int64  \n",
            " 77  YrSold         1459 non-null   int64  \n",
            " 78  SaleType       1458 non-null   object \n",
            " 79  SaleCondition  1459 non-null   object \n",
            "dtypes: float64(11), int64(26), object(43)\n",
            "memory usage: 912.0+ KB\n"
          ]
        }
      ]
    },
    {
      "cell_type": "code",
      "source": [
        "threshold = 0.8 * len(train_df.columns)\n",
        "train_df.dropna(thresh=threshold, inplace=True)"
      ],
      "metadata": {
        "id": "aQNwM4ve1ctK"
      },
      "execution_count": 44,
      "outputs": []
    },
    {
      "cell_type": "code",
      "source": [
        "null_threshold = 0.1 * len(train_df)\n",
        "columns_to_drop = [k for k,v in train_df.isnull().sum().to_dict().items() if v >= null_threshold]\n",
        "columns_to_drop"
      ],
      "metadata": {
        "colab": {
          "base_uri": "https://localhost:8080/"
        },
        "id": "RGSgeZOSvGhF",
        "outputId": "d8467a83-11e7-4054-b8f1-e1d1474d3377"
      },
      "execution_count": 45,
      "outputs": [
        {
          "output_type": "execute_result",
          "data": {
            "text/plain": [
              "['LotFrontage', 'MasVnrType']"
            ]
          },
          "metadata": {},
          "execution_count": 45
        }
      ]
    },
    {
      "cell_type": "code",
      "source": [
        "train_df.drop(columns=columns_to_drop, inplace=True)\n",
        "test_df.drop(columns=columns_to_drop, inplace=True)"
      ],
      "metadata": {
        "id": "0V3YCc5siHGF"
      },
      "execution_count": 46,
      "outputs": []
    },
    {
      "cell_type": "code",
      "source": [
        "numerical_columns_to_impute = [\n",
        "    'MasVnrArea', 'BsmtFinSF1', 'BsmtFinSF2', 'BsmtUnfSF', 'TotalBsmtSF', 'BsmtFullBath',\n",
        "    'BsmtHalfBath', 'GarageYrBlt', 'GarageCars', 'GarageArea'\n",
        "]\n",
        "\n",
        "for col in numerical_columns_to_impute:\n",
        "    train_df[col] = train_df[col].fillna(train_df[col].median())\n",
        "    test_df[col] = test_df[col].fillna(train_df[col].median())"
      ],
      "metadata": {
        "id": "rsFQVnZDeYGM"
      },
      "execution_count": 47,
      "outputs": []
    },
    {
      "cell_type": "code",
      "source": [
        "categorical_columns_to_impute = [\n",
        "    'MSZoning', 'Utilities', 'Exterior1st', 'Exterior2nd', 'Electrical', 'KitchenQual', 'Functional', 'SaleType'\n",
        "]\n",
        "\n",
        "for col in categorical_columns_to_impute:\n",
        "    train_df[col] = train_df[col].fillna(train_df[col].mode()[0])\n",
        "    test_df[col] = test_df[col].fillna(train_df[col].mode()[0])"
      ],
      "metadata": {
        "id": "Py1zqs0Vh0-e"
      },
      "execution_count": 48,
      "outputs": []
    },
    {
      "cell_type": "code",
      "source": [
        "train_df.info()"
      ],
      "metadata": {
        "colab": {
          "base_uri": "https://localhost:8080/"
        },
        "id": "C5MYBoN4eJse",
        "outputId": "0a2beb69-0015-4f1b-f5fb-7ee7f3b33ba2"
      },
      "execution_count": 49,
      "outputs": [
        {
          "output_type": "stream",
          "name": "stdout",
          "text": [
            "<class 'pandas.core.frame.DataFrame'>\n",
            "RangeIndex: 1460 entries, 0 to 1459\n",
            "Data columns (total 79 columns):\n",
            " #   Column         Non-Null Count  Dtype  \n",
            "---  ------         --------------  -----  \n",
            " 0   Id             1460 non-null   int64  \n",
            " 1   MSSubClass     1460 non-null   int64  \n",
            " 2   MSZoning       1460 non-null   object \n",
            " 3   LotArea        1460 non-null   int64  \n",
            " 4   Street         1460 non-null   object \n",
            " 5   Alley          1460 non-null   object \n",
            " 6   LotShape       1460 non-null   object \n",
            " 7   LandContour    1460 non-null   object \n",
            " 8   Utilities      1460 non-null   object \n",
            " 9   LotConfig      1460 non-null   object \n",
            " 10  LandSlope      1460 non-null   object \n",
            " 11  Neighborhood   1460 non-null   object \n",
            " 12  Condition1     1460 non-null   object \n",
            " 13  Condition2     1460 non-null   object \n",
            " 14  BldgType       1460 non-null   object \n",
            " 15  HouseStyle     1460 non-null   object \n",
            " 16  OverallQual    1460 non-null   int64  \n",
            " 17  OverallCond    1460 non-null   int64  \n",
            " 18  YearBuilt      1460 non-null   int64  \n",
            " 19  YearRemodAdd   1460 non-null   int64  \n",
            " 20  RoofStyle      1460 non-null   object \n",
            " 21  RoofMatl       1460 non-null   object \n",
            " 22  Exterior1st    1460 non-null   object \n",
            " 23  Exterior2nd    1460 non-null   object \n",
            " 24  MasVnrArea     1460 non-null   float64\n",
            " 25  ExterQual      1460 non-null   object \n",
            " 26  ExterCond      1460 non-null   object \n",
            " 27  Foundation     1460 non-null   object \n",
            " 28  BsmtQual       1460 non-null   object \n",
            " 29  BsmtCond       1460 non-null   object \n",
            " 30  BsmtExposure   1460 non-null   object \n",
            " 31  BsmtFinType1   1460 non-null   object \n",
            " 32  BsmtFinSF1     1460 non-null   int64  \n",
            " 33  BsmtFinType2   1460 non-null   object \n",
            " 34  BsmtFinSF2     1460 non-null   int64  \n",
            " 35  BsmtUnfSF      1460 non-null   int64  \n",
            " 36  TotalBsmtSF    1460 non-null   int64  \n",
            " 37  Heating        1460 non-null   object \n",
            " 38  HeatingQC      1460 non-null   object \n",
            " 39  CentralAir     1460 non-null   object \n",
            " 40  Electrical     1460 non-null   object \n",
            " 41  1stFlrSF       1460 non-null   int64  \n",
            " 42  2ndFlrSF       1460 non-null   int64  \n",
            " 43  LowQualFinSF   1460 non-null   int64  \n",
            " 44  GrLivArea      1460 non-null   int64  \n",
            " 45  BsmtFullBath   1460 non-null   int64  \n",
            " 46  BsmtHalfBath   1460 non-null   int64  \n",
            " 47  FullBath       1460 non-null   int64  \n",
            " 48  HalfBath       1460 non-null   int64  \n",
            " 49  BedroomAbvGr   1460 non-null   int64  \n",
            " 50  KitchenAbvGr   1460 non-null   int64  \n",
            " 51  KitchenQual    1460 non-null   object \n",
            " 52  TotRmsAbvGrd   1460 non-null   int64  \n",
            " 53  Functional     1460 non-null   object \n",
            " 54  Fireplaces     1460 non-null   int64  \n",
            " 55  FireplaceQu    1460 non-null   object \n",
            " 56  GarageType     1460 non-null   object \n",
            " 57  GarageYrBlt    1460 non-null   float64\n",
            " 58  GarageFinish   1460 non-null   object \n",
            " 59  GarageCars     1460 non-null   int64  \n",
            " 60  GarageArea     1460 non-null   int64  \n",
            " 61  GarageQual     1460 non-null   object \n",
            " 62  GarageCond     1460 non-null   object \n",
            " 63  PavedDrive     1460 non-null   object \n",
            " 64  WoodDeckSF     1460 non-null   int64  \n",
            " 65  OpenPorchSF    1460 non-null   int64  \n",
            " 66  EnclosedPorch  1460 non-null   int64  \n",
            " 67  3SsnPorch      1460 non-null   int64  \n",
            " 68  ScreenPorch    1460 non-null   int64  \n",
            " 69  PoolArea       1460 non-null   int64  \n",
            " 70  PoolQC         1460 non-null   object \n",
            " 71  Fence          1460 non-null   object \n",
            " 72  MiscFeature    1460 non-null   object \n",
            " 73  MiscVal        1460 non-null   int64  \n",
            " 74  MoSold         1460 non-null   int64  \n",
            " 75  YrSold         1460 non-null   int64  \n",
            " 76  SaleType       1460 non-null   object \n",
            " 77  SaleCondition  1460 non-null   object \n",
            " 78  SalePrice      1460 non-null   int64  \n",
            "dtypes: float64(2), int64(35), object(42)\n",
            "memory usage: 901.2+ KB\n"
          ]
        }
      ]
    },
    {
      "cell_type": "code",
      "source": [
        "test_df.info()"
      ],
      "metadata": {
        "colab": {
          "base_uri": "https://localhost:8080/"
        },
        "id": "RVL3phY1eTsH",
        "outputId": "9b17a6b1-9b75-4c57-a482-5ad2317a4c80"
      },
      "execution_count": 50,
      "outputs": [
        {
          "output_type": "stream",
          "name": "stdout",
          "text": [
            "<class 'pandas.core.frame.DataFrame'>\n",
            "RangeIndex: 1459 entries, 0 to 1458\n",
            "Data columns (total 78 columns):\n",
            " #   Column         Non-Null Count  Dtype  \n",
            "---  ------         --------------  -----  \n",
            " 0   Id             1459 non-null   int64  \n",
            " 1   MSSubClass     1459 non-null   int64  \n",
            " 2   MSZoning       1459 non-null   object \n",
            " 3   LotArea        1459 non-null   int64  \n",
            " 4   Street         1459 non-null   object \n",
            " 5   Alley          1459 non-null   object \n",
            " 6   LotShape       1459 non-null   object \n",
            " 7   LandContour    1459 non-null   object \n",
            " 8   Utilities      1459 non-null   object \n",
            " 9   LotConfig      1459 non-null   object \n",
            " 10  LandSlope      1459 non-null   object \n",
            " 11  Neighborhood   1459 non-null   object \n",
            " 12  Condition1     1459 non-null   object \n",
            " 13  Condition2     1459 non-null   object \n",
            " 14  BldgType       1459 non-null   object \n",
            " 15  HouseStyle     1459 non-null   object \n",
            " 16  OverallQual    1459 non-null   int64  \n",
            " 17  OverallCond    1459 non-null   int64  \n",
            " 18  YearBuilt      1459 non-null   int64  \n",
            " 19  YearRemodAdd   1459 non-null   int64  \n",
            " 20  RoofStyle      1459 non-null   object \n",
            " 21  RoofMatl       1459 non-null   object \n",
            " 22  Exterior1st    1459 non-null   object \n",
            " 23  Exterior2nd    1459 non-null   object \n",
            " 24  MasVnrArea     1459 non-null   float64\n",
            " 25  ExterQual      1459 non-null   object \n",
            " 26  ExterCond      1459 non-null   object \n",
            " 27  Foundation     1459 non-null   object \n",
            " 28  BsmtQual       1459 non-null   object \n",
            " 29  BsmtCond       1459 non-null   object \n",
            " 30  BsmtExposure   1459 non-null   object \n",
            " 31  BsmtFinType1   1459 non-null   object \n",
            " 32  BsmtFinSF1     1459 non-null   float64\n",
            " 33  BsmtFinType2   1459 non-null   object \n",
            " 34  BsmtFinSF2     1459 non-null   float64\n",
            " 35  BsmtUnfSF      1459 non-null   float64\n",
            " 36  TotalBsmtSF    1459 non-null   float64\n",
            " 37  Heating        1459 non-null   object \n",
            " 38  HeatingQC      1459 non-null   object \n",
            " 39  CentralAir     1459 non-null   object \n",
            " 40  Electrical     1459 non-null   object \n",
            " 41  1stFlrSF       1459 non-null   int64  \n",
            " 42  2ndFlrSF       1459 non-null   int64  \n",
            " 43  LowQualFinSF   1459 non-null   int64  \n",
            " 44  GrLivArea      1459 non-null   int64  \n",
            " 45  BsmtFullBath   1459 non-null   float64\n",
            " 46  BsmtHalfBath   1459 non-null   float64\n",
            " 47  FullBath       1459 non-null   int64  \n",
            " 48  HalfBath       1459 non-null   int64  \n",
            " 49  BedroomAbvGr   1459 non-null   int64  \n",
            " 50  KitchenAbvGr   1459 non-null   int64  \n",
            " 51  KitchenQual    1459 non-null   object \n",
            " 52  TotRmsAbvGrd   1459 non-null   int64  \n",
            " 53  Functional     1459 non-null   object \n",
            " 54  Fireplaces     1459 non-null   int64  \n",
            " 55  FireplaceQu    1459 non-null   object \n",
            " 56  GarageType     1459 non-null   object \n",
            " 57  GarageYrBlt    1459 non-null   float64\n",
            " 58  GarageFinish   1459 non-null   object \n",
            " 59  GarageCars     1459 non-null   float64\n",
            " 60  GarageArea     1459 non-null   float64\n",
            " 61  GarageQual     1459 non-null   object \n",
            " 62  GarageCond     1459 non-null   object \n",
            " 63  PavedDrive     1459 non-null   object \n",
            " 64  WoodDeckSF     1459 non-null   int64  \n",
            " 65  OpenPorchSF    1459 non-null   int64  \n",
            " 66  EnclosedPorch  1459 non-null   int64  \n",
            " 67  3SsnPorch      1459 non-null   int64  \n",
            " 68  ScreenPorch    1459 non-null   int64  \n",
            " 69  PoolArea       1459 non-null   int64  \n",
            " 70  PoolQC         1459 non-null   object \n",
            " 71  Fence          1459 non-null   object \n",
            " 72  MiscFeature    1459 non-null   object \n",
            " 73  MiscVal        1459 non-null   int64  \n",
            " 74  MoSold         1459 non-null   int64  \n",
            " 75  YrSold         1459 non-null   int64  \n",
            " 76  SaleType       1459 non-null   object \n",
            " 77  SaleCondition  1459 non-null   object \n",
            "dtypes: float64(10), int64(26), object(42)\n",
            "memory usage: 889.2+ KB\n"
          ]
        }
      ]
    },
    {
      "cell_type": "code",
      "source": [
        "import numpy as np\n",
        "\n",
        "# Get numerical column names\n",
        "numerical_cols = test_df.select_dtypes(include=np.number).columns.tolist()\n",
        "# Get categorical column names\n",
        "categorical_cols = test_df.select_dtypes(exclude=np.number).columns.tolist()"
      ],
      "metadata": {
        "id": "iMpIUQtJ1e0Y"
      },
      "execution_count": 51,
      "outputs": []
    },
    {
      "cell_type": "code",
      "source": [
        "len(categorical_cols)"
      ],
      "metadata": {
        "colab": {
          "base_uri": "https://localhost:8080/"
        },
        "id": "1qVxdIxu5hsv",
        "outputId": "a00f6ea7-abed-48a7-85be-71fe45cc527a"
      },
      "execution_count": 52,
      "outputs": [
        {
          "output_type": "execute_result",
          "data": {
            "text/plain": [
              "42"
            ]
          },
          "metadata": {},
          "execution_count": 52
        }
      ]
    },
    {
      "cell_type": "code",
      "source": [
        "len(test_df.columns)"
      ],
      "metadata": {
        "colab": {
          "base_uri": "https://localhost:8080/"
        },
        "id": "US4e4crnKF4u",
        "outputId": "8272fd4d-36d6-4a9d-df15-a37494a932ed"
      },
      "execution_count": 53,
      "outputs": [
        {
          "output_type": "execute_result",
          "data": {
            "text/plain": [
              "78"
            ]
          },
          "metadata": {},
          "execution_count": 53
        }
      ]
    },
    {
      "cell_type": "code",
      "source": [
        "len(numerical_cols)"
      ],
      "metadata": {
        "colab": {
          "base_uri": "https://localhost:8080/"
        },
        "id": "mlQVgryTHzCY",
        "outputId": "23858460-0bbd-4ede-c5dd-adb8c81a8703"
      },
      "execution_count": 54,
      "outputs": [
        {
          "output_type": "execute_result",
          "data": {
            "text/plain": [
              "36"
            ]
          },
          "metadata": {},
          "execution_count": 54
        }
      ]
    },
    {
      "cell_type": "code",
      "source": [
        "categorical_cols"
      ],
      "metadata": {
        "colab": {
          "base_uri": "https://localhost:8080/"
        },
        "id": "A3XhFRDQqg55",
        "outputId": "993d2ab1-3781-428d-88fb-c4d00ecb86c1"
      },
      "execution_count": 55,
      "outputs": [
        {
          "output_type": "execute_result",
          "data": {
            "text/plain": [
              "['MSZoning',\n",
              " 'Street',\n",
              " 'Alley',\n",
              " 'LotShape',\n",
              " 'LandContour',\n",
              " 'Utilities',\n",
              " 'LotConfig',\n",
              " 'LandSlope',\n",
              " 'Neighborhood',\n",
              " 'Condition1',\n",
              " 'Condition2',\n",
              " 'BldgType',\n",
              " 'HouseStyle',\n",
              " 'RoofStyle',\n",
              " 'RoofMatl',\n",
              " 'Exterior1st',\n",
              " 'Exterior2nd',\n",
              " 'ExterQual',\n",
              " 'ExterCond',\n",
              " 'Foundation',\n",
              " 'BsmtQual',\n",
              " 'BsmtCond',\n",
              " 'BsmtExposure',\n",
              " 'BsmtFinType1',\n",
              " 'BsmtFinType2',\n",
              " 'Heating',\n",
              " 'HeatingQC',\n",
              " 'CentralAir',\n",
              " 'Electrical',\n",
              " 'KitchenQual',\n",
              " 'Functional',\n",
              " 'FireplaceQu',\n",
              " 'GarageType',\n",
              " 'GarageFinish',\n",
              " 'GarageQual',\n",
              " 'GarageCond',\n",
              " 'PavedDrive',\n",
              " 'PoolQC',\n",
              " 'Fence',\n",
              " 'MiscFeature',\n",
              " 'SaleType',\n",
              " 'SaleCondition']"
            ]
          },
          "metadata": {},
          "execution_count": 55
        }
      ]
    },
    {
      "cell_type": "code",
      "source": [
        "for col in categorical_cols:\n",
        "    unique_values = train_df[col].unique()\n",
        "    print(f\"Unique values in column '{col}': {unique_values}\")"
      ],
      "metadata": {
        "colab": {
          "base_uri": "https://localhost:8080/"
        },
        "id": "s2kSwUBxrFux",
        "outputId": "e2ff5ffa-fd54-4d7a-e67e-6c746f71a0e7"
      },
      "execution_count": 56,
      "outputs": [
        {
          "output_type": "stream",
          "name": "stdout",
          "text": [
            "Unique values in column 'MSZoning': ['RL' 'RM' 'C (all)' 'FV' 'RH']\n",
            "Unique values in column 'Street': ['Pave' 'Grvl']\n",
            "Unique values in column 'Alley': ['NA' 'Grvl' 'Pave']\n",
            "Unique values in column 'LotShape': ['Reg' 'IR1' 'IR2' 'IR3']\n",
            "Unique values in column 'LandContour': ['Lvl' 'Bnk' 'Low' 'HLS']\n",
            "Unique values in column 'Utilities': ['AllPub' 'NoSeWa']\n",
            "Unique values in column 'LotConfig': ['Inside' 'FR2' 'Corner' 'CulDSac' 'FR3']\n",
            "Unique values in column 'LandSlope': ['Gtl' 'Mod' 'Sev']\n",
            "Unique values in column 'Neighborhood': ['CollgCr' 'Veenker' 'Crawfor' 'NoRidge' 'Mitchel' 'Somerst' 'NWAmes'\n",
            " 'OldTown' 'BrkSide' 'Sawyer' 'NridgHt' 'NAmes' 'SawyerW' 'IDOTRR'\n",
            " 'MeadowV' 'Edwards' 'Timber' 'Gilbert' 'StoneBr' 'ClearCr' 'NPkVill'\n",
            " 'Blmngtn' 'BrDale' 'SWISU' 'Blueste']\n",
            "Unique values in column 'Condition1': ['Norm' 'Feedr' 'PosN' 'Artery' 'RRAe' 'RRNn' 'RRAn' 'PosA' 'RRNe']\n",
            "Unique values in column 'Condition2': ['Norm' 'Artery' 'RRNn' 'Feedr' 'PosN' 'PosA' 'RRAn' 'RRAe']\n",
            "Unique values in column 'BldgType': ['1Fam' '2fmCon' 'Duplex' 'TwnhsE' 'Twnhs']\n",
            "Unique values in column 'HouseStyle': ['2Story' '1Story' '1.5Fin' '1.5Unf' 'SFoyer' 'SLvl' '2.5Unf' '2.5Fin']\n",
            "Unique values in column 'RoofStyle': ['Gable' 'Hip' 'Gambrel' 'Mansard' 'Flat' 'Shed']\n",
            "Unique values in column 'RoofMatl': ['CompShg' 'WdShngl' 'Metal' 'WdShake' 'Membran' 'Tar&Grv' 'Roll'\n",
            " 'ClyTile']\n",
            "Unique values in column 'Exterior1st': ['VinylSd' 'MetalSd' 'Wd Sdng' 'HdBoard' 'BrkFace' 'WdShing' 'CemntBd'\n",
            " 'Plywood' 'AsbShng' 'Stucco' 'BrkComm' 'AsphShn' 'Stone' 'ImStucc'\n",
            " 'CBlock']\n",
            "Unique values in column 'Exterior2nd': ['VinylSd' 'MetalSd' 'Wd Shng' 'HdBoard' 'Plywood' 'Wd Sdng' 'CmentBd'\n",
            " 'BrkFace' 'Stucco' 'AsbShng' 'Brk Cmn' 'ImStucc' 'AsphShn' 'Stone'\n",
            " 'Other' 'CBlock']\n",
            "Unique values in column 'ExterQual': ['Gd' 'TA' 'Ex' 'Fa']\n",
            "Unique values in column 'ExterCond': ['TA' 'Gd' 'Fa' 'Po' 'Ex']\n",
            "Unique values in column 'Foundation': ['PConc' 'CBlock' 'BrkTil' 'Wood' 'Slab' 'Stone']\n",
            "Unique values in column 'BsmtQual': ['Gd' 'TA' 'Ex' 'NA' 'Fa']\n",
            "Unique values in column 'BsmtCond': ['TA' 'Gd' 'NA' 'Fa' 'Po']\n",
            "Unique values in column 'BsmtExposure': ['No' 'Gd' 'Mn' 'Av' 'NA']\n",
            "Unique values in column 'BsmtFinType1': ['GLQ' 'ALQ' 'Unf' 'Rec' 'BLQ' 'NA' 'LwQ']\n",
            "Unique values in column 'BsmtFinType2': ['Unf' 'BLQ' 'NA' 'ALQ' 'Rec' 'LwQ' 'GLQ']\n",
            "Unique values in column 'Heating': ['GasA' 'GasW' 'Grav' 'Wall' 'OthW' 'Floor']\n",
            "Unique values in column 'HeatingQC': ['Ex' 'Gd' 'TA' 'Fa' 'Po']\n",
            "Unique values in column 'CentralAir': ['Y' 'N']\n",
            "Unique values in column 'Electrical': ['SBrkr' 'FuseF' 'FuseA' 'FuseP' 'Mix']\n",
            "Unique values in column 'KitchenQual': ['Gd' 'TA' 'Ex' 'Fa']\n",
            "Unique values in column 'Functional': ['Typ' 'Min1' 'Maj1' 'Min2' 'Mod' 'Maj2' 'Sev']\n",
            "Unique values in column 'FireplaceQu': ['NA' 'TA' 'Gd' 'Fa' 'Ex' 'Po']\n",
            "Unique values in column 'GarageType': ['Attchd' 'Detchd' 'BuiltIn' 'CarPort' 'NA' 'Basment' '2Types']\n",
            "Unique values in column 'GarageFinish': ['RFn' 'Unf' 'Fin' 'NA']\n",
            "Unique values in column 'GarageQual': ['TA' 'Fa' 'Gd' 'NA' 'Ex' 'Po']\n",
            "Unique values in column 'GarageCond': ['TA' 'Fa' 'NA' 'Gd' 'Po' 'Ex']\n",
            "Unique values in column 'PavedDrive': ['Y' 'N' 'P']\n",
            "Unique values in column 'PoolQC': ['NA' 'Ex' 'Fa' 'Gd']\n",
            "Unique values in column 'Fence': ['NA' 'MnPrv' 'GdWo' 'GdPrv' 'MnWw']\n",
            "Unique values in column 'MiscFeature': ['NA' 'Shed' 'Gar2' 'Othr' 'TenC']\n",
            "Unique values in column 'SaleType': ['WD' 'New' 'COD' 'ConLD' 'ConLI' 'CWD' 'ConLw' 'Con' 'Oth']\n",
            "Unique values in column 'SaleCondition': ['Normal' 'Abnorml' 'Partial' 'AdjLand' 'Alloca' 'Family']\n"
          ]
        }
      ]
    },
    {
      "cell_type": "code",
      "source": [
        "import pandas as pd\n",
        "\n",
        "# Assuming 'df' is your original DataFrame\n",
        "selected_features = ['Id', 'MSZoning', 'LotArea', 'BldgType', 'HouseStyle', 'BedroomAbvGr', 'GarageArea', 'SalePrice']\n",
        "\n",
        "# Filter the DataFrame to keep only the selected features\n",
        "train_df = train_df[selected_features]\n",
        "selected_features.remove('SalePrice')\n",
        "test_df = test_df[selected_features]"
      ],
      "metadata": {
        "id": "gSqL4EDWAgrb"
      },
      "execution_count": 57,
      "outputs": []
    },
    {
      "cell_type": "markdown",
      "source": [
        "## **Data Transformation**"
      ],
      "metadata": {
        "id": "Fo6cDvCpwR1k"
      }
    },
    {
      "cell_type": "code",
      "source": [
        "ordinal_category_mapping = {\n",
        "    'Street': {'Pave':1, 'Grvl':0},\n",
        "    'Alley': {'Pave':2, 'Grvl':1, 'NA':0},\n",
        "    'LotShape': {'Reg':3, 'IR1':2, 'IR2':1, 'IR3':0},\n",
        "    'LandContour': {'Lvl':3, 'Bnk':2, 'HLS':1, 'Low':0},\n",
        "    'Utilities': {'AllPub':4, 'NoSewr':3, 'NoSeWa':2, 'ELO':1},\n",
        "    'LandSlope': {'Gtl':2, 'Mod':1, 'Sev':0},\n",
        "    'ExterQual': {'Ex':5, 'Gd':4, 'TA':3, 'Fa':2, 'Po':1},\n",
        "    'ExterCond': {'Ex':5, 'Gd':4, 'TA':3, 'Fa':2, 'Po':1},\n",
        "    'BsmtQual': {'Ex':5, 'Gd':4, 'TA':3, 'Fa':2, 'Po':1, 'NA':0},\n",
        "    'BsmtCond': {'Ex':5, 'Gd':4, 'TA':3, 'Fa':2, 'Po':1, 'NA':0},\n",
        "    'BsmtExposure': {'Gd':4, 'Av':3, 'Mn':2, 'No':1, 'NA':0},\n",
        "    'BsmtFinType1': {'GLQ':6, 'ALQ':5, 'BLQ':4, 'Rec':3, 'LwQ':2, 'Unf':1, 'NA':0},\n",
        "    'BsmtFinType2': {'GLQ':6, 'ALQ':5, 'BLQ':4, 'Rec':3, 'LwQ':2, 'Unf':1, 'NA':0},\n",
        "    'HeatingQC': {'Ex':5, 'Gd':4, 'TA':3, 'Fa':2, 'Po':1},\n",
        "    'CentralAir': {'Y':1, 'N':0},\n",
        "    'Electrical': {'SBrkr':4, 'FuseA':3, 'FuseF':2, 'FuseP':1, 'Mix':0},\n",
        "    'KitchenQual': {'Ex':5, 'Gd':4, 'TA':3, 'Fa':2, 'Po':1},\n",
        "    'Functional': {'Typ':8, 'Min1':7, 'Min2':6, 'Mod':5, 'Maj1':4, 'Maj2':3, 'Sev':2, 'Sal':1},\n",
        "    'FireplaceQu': {'Ex':5, 'Gd':4, 'TA':3, 'Fa':2, 'Po':1, 'NA':0},\n",
        "    'GarageFinish': {'Fin':3, 'RFn':2, 'Unf':1, 'NA':0},\n",
        "    'GarageQual': {'Ex':5, 'Gd':4, 'TA':3, 'Fa':2, 'Po':1, 'NA':0},\n",
        "    'GarageCond': {'Ex':5, 'Gd':4, 'TA':3, 'Fa':2, 'Po':1, 'NA':0},\n",
        "    'PavedDrive': {'Y':2, 'P':1, 'N':0},\n",
        "    'PoolQC': {'Ex':4, 'Gd':3, 'TA':2, 'Fa':1, 'NA':0},\n",
        "    'Fence': {'GdPrv':4, 'MnPrv':3, 'GdWo':2, 'MnWw':1, 'NA':0}\n",
        "}"
      ],
      "metadata": {
        "id": "kg13JzSnwT8s"
      },
      "execution_count": 58,
      "outputs": []
    },
    {
      "cell_type": "code",
      "source": [
        "for k,v in ordinal_category_mapping.items():\n",
        "    # Check if k is a present column in dataframes\n",
        "    if k not in train_df.columns or k not in test_df.columns:\n",
        "        continue\n",
        "\n",
        "    # Replace categorical values with numerical values using the mapping dictionary\n",
        "    train_df[k] = train_df[k].map(v)\n",
        "    test_df[k] = test_df[k].map(v)"
      ],
      "metadata": {
        "id": "xZlu3gRHBDlA"
      },
      "execution_count": 59,
      "outputs": []
    },
    {
      "cell_type": "code",
      "source": [
        "test_df.info()"
      ],
      "metadata": {
        "colab": {
          "base_uri": "https://localhost:8080/"
        },
        "id": "rhxL2XKUB-lY",
        "outputId": "26eeca2b-7a2a-4cb0-d2e0-dfadee83bf5b"
      },
      "execution_count": 60,
      "outputs": [
        {
          "output_type": "stream",
          "name": "stdout",
          "text": [
            "<class 'pandas.core.frame.DataFrame'>\n",
            "RangeIndex: 1459 entries, 0 to 1458\n",
            "Data columns (total 7 columns):\n",
            " #   Column        Non-Null Count  Dtype  \n",
            "---  ------        --------------  -----  \n",
            " 0   Id            1459 non-null   int64  \n",
            " 1   MSZoning      1459 non-null   object \n",
            " 2   LotArea       1459 non-null   int64  \n",
            " 3   BldgType      1459 non-null   object \n",
            " 4   HouseStyle    1459 non-null   object \n",
            " 5   BedroomAbvGr  1459 non-null   int64  \n",
            " 6   GarageArea    1459 non-null   float64\n",
            "dtypes: float64(1), int64(3), object(3)\n",
            "memory usage: 79.9+ KB\n"
          ]
        }
      ]
    },
    {
      "cell_type": "code",
      "source": [
        "import numpy as np\n",
        "\n",
        "# Get numerical column names\n",
        "numerical_cols = test_df.select_dtypes(include=np.number).columns.tolist()\n",
        "# Get categorical column names\n",
        "categorical_cols = test_df.select_dtypes(exclude=np.number).columns.tolist()"
      ],
      "metadata": {
        "id": "KJTVL0cukSis"
      },
      "execution_count": 61,
      "outputs": []
    },
    {
      "cell_type": "code",
      "source": [
        "len(categorical_cols)"
      ],
      "metadata": {
        "colab": {
          "base_uri": "https://localhost:8080/"
        },
        "outputId": "6e5f015b-452d-40f3-f756-d629cb42bc65",
        "id": "y9_xgEALkgzM"
      },
      "execution_count": 62,
      "outputs": [
        {
          "output_type": "execute_result",
          "data": {
            "text/plain": [
              "3"
            ]
          },
          "metadata": {},
          "execution_count": 62
        }
      ]
    },
    {
      "cell_type": "code",
      "source": [
        "len(test_df.columns)"
      ],
      "metadata": {
        "colab": {
          "base_uri": "https://localhost:8080/"
        },
        "outputId": "2f957311-101d-4024-bd67-f025d8042274",
        "id": "srlg1BiSkgzN"
      },
      "execution_count": 63,
      "outputs": [
        {
          "output_type": "execute_result",
          "data": {
            "text/plain": [
              "7"
            ]
          },
          "metadata": {},
          "execution_count": 63
        }
      ]
    },
    {
      "cell_type": "code",
      "source": [
        "len(numerical_cols)"
      ],
      "metadata": {
        "colab": {
          "base_uri": "https://localhost:8080/"
        },
        "outputId": "b1230a01-0820-4bf6-ba83-1baae36e460b",
        "id": "wANhwbP8kgzN"
      },
      "execution_count": 64,
      "outputs": [
        {
          "output_type": "execute_result",
          "data": {
            "text/plain": [
              "4"
            ]
          },
          "metadata": {},
          "execution_count": 64
        }
      ]
    },
    {
      "cell_type": "code",
      "source": [
        "train_df = pd.get_dummies(train_df, columns=categorical_cols).astype(int)\n",
        "test_df = pd.get_dummies(test_df, columns=categorical_cols).astype(int)"
      ],
      "metadata": {
        "id": "caerraYPl_B7"
      },
      "execution_count": 65,
      "outputs": []
    },
    {
      "cell_type": "code",
      "source": [
        "import numpy as np\n",
        "\n",
        "# Get numerical column names\n",
        "numerical_cols = test_df.select_dtypes(include=np.number).columns.tolist()\n",
        "# Get categorical column names\n",
        "categorical_cols = test_df.select_dtypes(exclude=np.number).columns.tolist()"
      ],
      "metadata": {
        "id": "3u54IossmQJL"
      },
      "execution_count": 66,
      "outputs": []
    },
    {
      "cell_type": "code",
      "source": [
        "len(categorical_cols)"
      ],
      "metadata": {
        "colab": {
          "base_uri": "https://localhost:8080/"
        },
        "outputId": "1fea7231-3750-43a8-c2cc-188db329413a",
        "id": "M4xMuv7_mQJR"
      },
      "execution_count": 67,
      "outputs": [
        {
          "output_type": "execute_result",
          "data": {
            "text/plain": [
              "0"
            ]
          },
          "metadata": {},
          "execution_count": 67
        }
      ]
    },
    {
      "cell_type": "code",
      "source": [
        "len(test_df.columns)"
      ],
      "metadata": {
        "colab": {
          "base_uri": "https://localhost:8080/"
        },
        "outputId": "64ab6932-441a-4476-ae2e-c681721071ae",
        "id": "e2Tt_IXJmQJR"
      },
      "execution_count": 68,
      "outputs": [
        {
          "output_type": "execute_result",
          "data": {
            "text/plain": [
              "21"
            ]
          },
          "metadata": {},
          "execution_count": 68
        }
      ]
    },
    {
      "cell_type": "code",
      "source": [
        "len(numerical_cols)"
      ],
      "metadata": {
        "colab": {
          "base_uri": "https://localhost:8080/"
        },
        "outputId": "835798fd-c37b-466a-b49b-058851531999",
        "id": "qAi3p4kUmQJR"
      },
      "execution_count": 69,
      "outputs": [
        {
          "output_type": "execute_result",
          "data": {
            "text/plain": [
              "21"
            ]
          },
          "metadata": {},
          "execution_count": 69
        }
      ]
    },
    {
      "cell_type": "code",
      "source": [
        "a = list(train_df.columns)\n",
        "b = list(test_df.columns)\n",
        "\n",
        "for i in b:\n",
        "    if i in a:\n",
        "       a.remove(i)\n",
        "\n",
        "a.remove('SalePrice')"
      ],
      "metadata": {
        "id": "XV147j9tn_Hc"
      },
      "execution_count": 70,
      "outputs": []
    },
    {
      "cell_type": "code",
      "source": [
        "missing_cols = a\n",
        "\n",
        "for col in missing_cols:\n",
        "    test_df[col] = 0"
      ],
      "metadata": {
        "id": "Ieg0U-ZjppuC"
      },
      "execution_count": 71,
      "outputs": []
    },
    {
      "cell_type": "code",
      "source": [
        "len(train_df.columns), len(test_df.columns)"
      ],
      "metadata": {
        "colab": {
          "base_uri": "https://localhost:8080/"
        },
        "id": "NMjExG0lrSxB",
        "outputId": "0efca648-8bf2-4808-b56d-f320346e3c76"
      },
      "execution_count": 72,
      "outputs": [
        {
          "output_type": "execute_result",
          "data": {
            "text/plain": [
              "(23, 22)"
            ]
          },
          "metadata": {},
          "execution_count": 72
        }
      ]
    },
    {
      "cell_type": "markdown",
      "source": [
        "## **Feature Engineering**"
      ],
      "metadata": {
        "id": "CJAkY_duwUf_"
      }
    },
    {
      "cell_type": "code",
      "source": [
        "import matplotlib.pyplot as plt\n",
        "import seaborn as sns\n",
        "\n",
        "# Calculate correlation matrix\n",
        "def calculate_correlation_matrix(df, columns):\n",
        "  return df[columns].corr()\n",
        "\n",
        "# Plot correlation matrix\n",
        "def plot_correlation_matrix(corr_matrix):\n",
        "  plt.figure(figsize=(20, 20))\n",
        "  sns.heatmap(corr_matrix, annot=True, cmap='RdBu', fmt=\".2f\")\n",
        "  plt.show()\n",
        "\n",
        "corr_matrix = calculate_correlation_matrix(train_df, train_df.drop(columns=['Id', 'SalePrice']).columns)\n",
        "plot_correlation_matrix(corr_matrix)"
      ],
      "metadata": {
        "id": "D-4vqQMYw5aa",
        "colab": {
          "base_uri": "https://localhost:8080/",
          "height": 937
        },
        "outputId": "c90c3a93-35aa-4ff3-92bc-badf346d1c7d"
      },
      "execution_count": 73,
      "outputs": [
        {
          "output_type": "display_data",
          "data": {
            "text/plain": [
              "<Figure size 2000x2000 with 2 Axes>"
            ],
            "image/png": "[encoded data removed]"
          },
          "metadata": {}
        }
      ]
    },
    {
      "cell_type": "code",
      "source": [
        "abs_corr_matrix = corr_matrix.abs()\n",
        "upper_tri = corr_matrix.where(np.triu(np.ones(abs_corr_matrix.shape), k=1).astype(bool))\n",
        "\n",
        "corr_threshold = 0.5\n",
        "\n",
        "corr_to_drop = [column for column in upper_tri.columns if any(upper_tri[column] > corr_threshold)]\n",
        "corr_train_df = train_df.drop(corr_to_drop, axis=1)\n",
        "corr_test_df = test_df.drop(corr_to_drop, axis=1)"
      ],
      "metadata": {
        "id": "gxrA1N_VsTlg"
      },
      "execution_count": 74,
      "outputs": []
    },
    {
      "cell_type": "code",
      "source": [
        "corr_to_drop"
      ],
      "metadata": {
        "colab": {
          "base_uri": "https://localhost:8080/"
        },
        "id": "eIKV8PpLuoVv",
        "outputId": "a278e7a3-7a0b-4e48-c463-264e0f39c4aa"
      },
      "execution_count": 75,
      "outputs": [
        {
          "output_type": "execute_result",
          "data": {
            "text/plain": [
              "[]"
            ]
          },
          "metadata": {},
          "execution_count": 75
        }
      ]
    },
    {
      "cell_type": "code",
      "source": [
        "len(corr_train_df.columns), len(corr_test_df.columns)"
      ],
      "metadata": {
        "colab": {
          "base_uri": "https://localhost:8080/"
        },
        "id": "A2pNizLUzYJz",
        "outputId": "a3493e70-2e5a-46e3-eb5a-fda448168b6c"
      },
      "execution_count": 76,
      "outputs": [
        {
          "output_type": "execute_result",
          "data": {
            "text/plain": [
              "(23, 22)"
            ]
          },
          "metadata": {},
          "execution_count": 76
        }
      ]
    },
    {
      "cell_type": "code",
      "source": [
        "import pandas as pd\n",
        "from sklearn.decomposition import PCA\n",
        "from sklearn.preprocessing import StandardScaler\n",
        "\n",
        "features_to_include = corr_train_df.columns.drop(['Id', 'SalePrice'])\n",
        "\n",
        "combined_df = pd.concat([corr_train_df[features_to_include], corr_test_df[features_to_include]])\n",
        "\n",
        "scaler = StandardScaler()\n",
        "combined_scaled = scaler.fit_transform(combined_df)\n",
        "\n",
        "train_scaled = combined_scaled[:len(corr_train_df)]\n",
        "test_scaled = combined_scaled[len(corr_train_df):]\n",
        "\n",
        "pca = PCA()\n",
        "pca.fit(train_scaled)\n",
        "\n",
        "train_pca = pca.transform(train_scaled)\n",
        "test_pca = pca.transform(test_scaled)\n",
        "\n",
        "train_pca_df = pd.DataFrame(train_pca, columns=[f'PC{i+1}' for i in range(train_pca.shape[1])])\n",
        "test_pca_df = pd.DataFrame(test_pca, columns=[f'PC{i+1}' for i in range(test_pca.shape[1])])\n",
        "\n",
        "train_pca_df = pd.concat([corr_train_df[['Id', 'SalePrice']], train_pca_df], axis=1)\n",
        "test_pca_df = pd.concat([corr_test_df[['Id']], test_pca_df], axis=1)"
      ],
      "metadata": {
        "id": "jLZKTN8dwmmX"
      },
      "execution_count": null,
      "outputs": []
    },
    {
      "cell_type": "code",
      "source": [
        "explained_variance_ratio = pca.explained_variance_ratio_\n",
        "\n",
        "non_principle_components = []\n",
        "\n",
        "for i, ratio in enumerate(explained_variance_ratio):\n",
        "    print(f\"PC{i+1}: Explained Variance Ratio = {ratio:.3f}\")\n",
        "\n",
        "    if ratio < 0.015:\n",
        "        non_principle_components.append(f\"PC{i+1}\")"
      ],
      "metadata": {
        "colab": {
          "base_uri": "https://localhost:8080/"
        },
        "id": "aJCj2FbKznSA",
        "outputId": "53a80456-48fe-45cf-c101-8b967959fe77"
      },
      "execution_count": null,
      "outputs": [
        {
          "output_type": "stream",
          "name": "stdout",
          "text": [
            "PC1: Explained Variance Ratio = 0.039\n",
            "PC2: Explained Variance Ratio = 0.025\n",
            "PC3: Explained Variance Ratio = 0.022\n",
            "PC4: Explained Variance Ratio = 0.020\n",
            "PC5: Explained Variance Ratio = 0.019\n",
            "PC6: Explained Variance Ratio = 0.017\n",
            "PC7: Explained Variance Ratio = 0.016\n",
            "PC8: Explained Variance Ratio = 0.015\n",
            "PC9: Explained Variance Ratio = 0.015\n",
            "PC10: Explained Variance Ratio = 0.014\n",
            "PC11: Explained Variance Ratio = 0.014\n",
            "PC12: Explained Variance Ratio = 0.014\n",
            "PC13: Explained Variance Ratio = 0.014\n",
            "PC14: Explained Variance Ratio = 0.013\n",
            "PC15: Explained Variance Ratio = 0.013\n",
            "PC16: Explained Variance Ratio = 0.013\n",
            "PC17: Explained Variance Ratio = 0.013\n",
            "PC18: Explained Variance Ratio = 0.012\n",
            "PC19: Explained Variance Ratio = 0.012\n",
            "PC20: Explained Variance Ratio = 0.012\n",
            "PC21: Explained Variance Ratio = 0.012\n",
            "PC22: Explained Variance Ratio = 0.012\n",
            "PC23: Explained Variance Ratio = 0.011\n",
            "PC24: Explained Variance Ratio = 0.011\n",
            "PC25: Explained Variance Ratio = 0.011\n",
            "PC26: Explained Variance Ratio = 0.011\n",
            "PC27: Explained Variance Ratio = 0.010\n",
            "PC28: Explained Variance Ratio = 0.010\n",
            "PC29: Explained Variance Ratio = 0.010\n",
            "PC30: Explained Variance Ratio = 0.010\n",
            "PC31: Explained Variance Ratio = 0.010\n",
            "PC32: Explained Variance Ratio = 0.009\n",
            "PC33: Explained Variance Ratio = 0.009\n",
            "PC34: Explained Variance Ratio = 0.009\n",
            "PC35: Explained Variance Ratio = 0.009\n",
            "PC36: Explained Variance Ratio = 0.009\n",
            "PC37: Explained Variance Ratio = 0.009\n",
            "PC38: Explained Variance Ratio = 0.008\n",
            "PC39: Explained Variance Ratio = 0.008\n",
            "PC40: Explained Variance Ratio = 0.008\n",
            "PC41: Explained Variance Ratio = 0.008\n",
            "PC42: Explained Variance Ratio = 0.008\n",
            "PC43: Explained Variance Ratio = 0.008\n",
            "PC44: Explained Variance Ratio = 0.008\n",
            "PC45: Explained Variance Ratio = 0.008\n",
            "PC46: Explained Variance Ratio = 0.008\n",
            "PC47: Explained Variance Ratio = 0.007\n",
            "PC48: Explained Variance Ratio = 0.007\n",
            "PC49: Explained Variance Ratio = 0.007\n",
            "PC50: Explained Variance Ratio = 0.007\n",
            "PC51: Explained Variance Ratio = 0.007\n",
            "PC52: Explained Variance Ratio = 0.007\n",
            "PC53: Explained Variance Ratio = 0.007\n",
            "PC54: Explained Variance Ratio = 0.007\n",
            "PC55: Explained Variance Ratio = 0.007\n",
            "PC56: Explained Variance Ratio = 0.007\n",
            "PC57: Explained Variance Ratio = 0.007\n",
            "PC58: Explained Variance Ratio = 0.007\n",
            "PC59: Explained Variance Ratio = 0.007\n",
            "PC60: Explained Variance Ratio = 0.006\n",
            "PC61: Explained Variance Ratio = 0.006\n",
            "PC62: Explained Variance Ratio = 0.006\n",
            "PC63: Explained Variance Ratio = 0.006\n",
            "PC64: Explained Variance Ratio = 0.006\n",
            "PC65: Explained Variance Ratio = 0.006\n",
            "PC66: Explained Variance Ratio = 0.006\n",
            "PC67: Explained Variance Ratio = 0.006\n",
            "PC68: Explained Variance Ratio = 0.006\n",
            "PC69: Explained Variance Ratio = 0.006\n",
            "PC70: Explained Variance Ratio = 0.006\n",
            "PC71: Explained Variance Ratio = 0.006\n",
            "PC72: Explained Variance Ratio = 0.006\n",
            "PC73: Explained Variance Ratio = 0.006\n",
            "PC74: Explained Variance Ratio = 0.006\n",
            "PC75: Explained Variance Ratio = 0.006\n",
            "PC76: Explained Variance Ratio = 0.005\n",
            "PC77: Explained Variance Ratio = 0.005\n",
            "PC78: Explained Variance Ratio = 0.005\n",
            "PC79: Explained Variance Ratio = 0.005\n",
            "PC80: Explained Variance Ratio = 0.005\n",
            "PC81: Explained Variance Ratio = 0.005\n",
            "PC82: Explained Variance Ratio = 0.005\n",
            "PC83: Explained Variance Ratio = 0.005\n",
            "PC84: Explained Variance Ratio = 0.005\n",
            "PC85: Explained Variance Ratio = 0.005\n",
            "PC86: Explained Variance Ratio = 0.005\n",
            "PC87: Explained Variance Ratio = 0.005\n",
            "PC88: Explained Variance Ratio = 0.005\n",
            "PC89: Explained Variance Ratio = 0.005\n",
            "PC90: Explained Variance Ratio = 0.005\n",
            "PC91: Explained Variance Ratio = 0.005\n",
            "PC92: Explained Variance Ratio = 0.004\n",
            "PC93: Explained Variance Ratio = 0.004\n",
            "PC94: Explained Variance Ratio = 0.004\n",
            "PC95: Explained Variance Ratio = 0.004\n",
            "PC96: Explained Variance Ratio = 0.004\n",
            "PC97: Explained Variance Ratio = 0.004\n",
            "PC98: Explained Variance Ratio = 0.004\n",
            "PC99: Explained Variance Ratio = 0.004\n",
            "PC100: Explained Variance Ratio = 0.004\n",
            "PC101: Explained Variance Ratio = 0.004\n",
            "PC102: Explained Variance Ratio = 0.004\n",
            "PC103: Explained Variance Ratio = 0.004\n",
            "PC104: Explained Variance Ratio = 0.004\n",
            "PC105: Explained Variance Ratio = 0.004\n",
            "PC106: Explained Variance Ratio = 0.004\n",
            "PC107: Explained Variance Ratio = 0.004\n",
            "PC108: Explained Variance Ratio = 0.004\n",
            "PC109: Explained Variance Ratio = 0.004\n",
            "PC110: Explained Variance Ratio = 0.003\n",
            "PC111: Explained Variance Ratio = 0.003\n",
            "PC112: Explained Variance Ratio = 0.003\n",
            "PC113: Explained Variance Ratio = 0.003\n",
            "PC114: Explained Variance Ratio = 0.003\n",
            "PC115: Explained Variance Ratio = 0.003\n",
            "PC116: Explained Variance Ratio = 0.003\n",
            "PC117: Explained Variance Ratio = 0.003\n",
            "PC118: Explained Variance Ratio = 0.003\n",
            "PC119: Explained Variance Ratio = 0.003\n",
            "PC120: Explained Variance Ratio = 0.003\n",
            "PC121: Explained Variance Ratio = 0.003\n",
            "PC122: Explained Variance Ratio = 0.003\n",
            "PC123: Explained Variance Ratio = 0.003\n",
            "PC124: Explained Variance Ratio = 0.003\n",
            "PC125: Explained Variance Ratio = 0.003\n",
            "PC126: Explained Variance Ratio = 0.003\n",
            "PC127: Explained Variance Ratio = 0.003\n",
            "PC128: Explained Variance Ratio = 0.002\n",
            "PC129: Explained Variance Ratio = 0.002\n",
            "PC130: Explained Variance Ratio = 0.002\n",
            "PC131: Explained Variance Ratio = 0.002\n",
            "PC132: Explained Variance Ratio = 0.002\n",
            "PC133: Explained Variance Ratio = 0.002\n",
            "PC134: Explained Variance Ratio = 0.002\n",
            "PC135: Explained Variance Ratio = 0.002\n",
            "PC136: Explained Variance Ratio = 0.002\n",
            "PC137: Explained Variance Ratio = 0.002\n",
            "PC138: Explained Variance Ratio = 0.002\n",
            "PC139: Explained Variance Ratio = 0.001\n",
            "PC140: Explained Variance Ratio = 0.001\n",
            "PC141: Explained Variance Ratio = 0.001\n",
            "PC142: Explained Variance Ratio = 0.001\n",
            "PC143: Explained Variance Ratio = 0.001\n",
            "PC144: Explained Variance Ratio = 0.000\n",
            "PC145: Explained Variance Ratio = 0.000\n",
            "PC146: Explained Variance Ratio = 0.000\n",
            "PC147: Explained Variance Ratio = 0.000\n",
            "PC148: Explained Variance Ratio = 0.000\n",
            "PC149: Explained Variance Ratio = 0.000\n",
            "PC150: Explained Variance Ratio = 0.000\n",
            "PC151: Explained Variance Ratio = 0.000\n",
            "PC152: Explained Variance Ratio = 0.000\n",
            "PC153: Explained Variance Ratio = 0.000\n",
            "PC154: Explained Variance Ratio = 0.000\n",
            "PC155: Explained Variance Ratio = 0.000\n",
            "PC156: Explained Variance Ratio = 0.000\n"
          ]
        }
      ]
    },
    {
      "cell_type": "code",
      "source": [
        "train_pc_df = train_pca_df.drop(columns=non_principle_components)\n",
        "test_pc_df = test_pca_df.drop(columns=non_principle_components)"
      ],
      "metadata": {
        "id": "QZU14u851bI_"
      },
      "execution_count": null,
      "outputs": []
    },
    {
      "cell_type": "code",
      "source": [
        "test_pc_df"
      ],
      "metadata": {
        "colab": {
          "base_uri": "https://localhost:8080/",
          "height": 423
        },
        "id": "ulxkwm9Z3KCC",
        "outputId": "3804ef36-44be-40b9-d0ee-6cd0be9bf29a"
      },
      "execution_count": null,
      "outputs": [
        {
          "output_type": "execute_result",
          "data": {
            "text/plain": [
              "        Id       PC1       PC2       PC3       PC4       PC5       PC6  \\\n",
              "0     1461 -1.071920  2.353884 -1.508665 -0.213645 -0.838493  0.738967   \n",
              "1     1462  1.580725  4.527269  0.380245 -0.164926 -3.609592  4.482997   \n",
              "2     1463  1.322860 -0.264295 -0.062508  0.119341 -0.901247 -0.928591   \n",
              "3     1464  1.660101 -0.892430  0.152468  0.069633 -0.848668 -0.931085   \n",
              "4     1465  1.625111 -1.352584 -1.014201  0.933080  0.909083  0.889300   \n",
              "...    ...       ...       ...       ...       ...       ...       ...   \n",
              "1454  2915 -3.620903 -2.790712 -3.363619  4.767495  0.025692 -0.614894   \n",
              "1455  2916 -3.126838 -1.361859 -2.930625  4.739645  0.136463  1.109552   \n",
              "1456  2917  0.326616  1.654886 -1.212600 -0.062037  0.144765 -0.636868   \n",
              "1457  2918 -0.262395  2.067143 -2.151577  2.067703 -1.497648  0.857581   \n",
              "1458  2919  1.522597 -0.920791 -0.290417  0.529783 -0.341946 -0.629521   \n",
              "\n",
              "           PC7       PC8       PC9  \n",
              "0     0.954520 -0.111752  0.938527  \n",
              "1    -4.341927  1.029870 -5.106150  \n",
              "2    -1.452667 -0.941587  0.520487  \n",
              "3    -1.247245 -1.080364  0.401951  \n",
              "4     0.012361 -0.658962 -0.220081  \n",
              "...        ...       ...       ...  \n",
              "1454  0.896904  0.421019  0.310746  \n",
              "1455  0.829375  0.782197 -0.457878  \n",
              "1456  0.195915  0.111032 -0.410890  \n",
              "1457 -3.198526 -0.079705 -2.805562  \n",
              "1458 -1.039654 -0.664990  0.342010  \n",
              "\n",
              "[1459 rows x 10 columns]"
            ],
            "text/html": [
              "\n",
              "  <div id=\"df-6af6d558-bb85-43e1-bbc1-a5f5c8ce5962\" class=\"colab-df-container\">\n",
              "    <div>\n",
              "<style scoped>\n",
              "    .dataframe tbody tr th:only-of-type {\n",
              "        vertical-align: middle;\n",
              "    }\n",
              "\n",
              "    .dataframe tbody tr th {\n",
              "        vertical-align: top;\n",
              "    }\n",
              "\n",
              "    .dataframe thead th {\n",
              "        text-align: right;\n",
              "    }\n",
              "</style>\n",
              "<table border=\"1\" class=\"dataframe\">\n",
              "  <thead>\n",
              "    <tr style=\"text-align: right;\">\n",
              "      <th></th>\n",
              "      <th>Id</th>\n",
              "      <th>PC1</th>\n",
              "      <th>PC2</th>\n",
              "      <th>PC3</th>\n",
              "      <th>PC4</th>\n",
              "      <th>PC5</th>\n",
              "      <th>PC6</th>\n",
              "      <th>PC7</th>\n",
              "      <th>PC8</th>\n",
              "      <th>PC9</th>\n",
              "    </tr>\n",
              "  </thead>\n",
              "  <tbody>\n",
              "    <tr>\n",
              "      <th>0</th>\n",
              "      <td>1461</td>\n",
              "      <td>-1.071920</td>\n",
              "      <td>2.353884</td>\n",
              "      <td>-1.508665</td>\n",
              "      <td>-0.213645</td>\n",
              "      <td>-0.838493</td>\n",
              "      <td>0.738967</td>\n",
              "      <td>0.954520</td>\n",
              "      <td>-0.111752</td>\n",
              "      <td>0.938527</td>\n",
              "    </tr>\n",
              "    <tr>\n",
              "      <th>1</th>\n",
              "      <td>1462</td>\n",
              "      <td>1.580725</td>\n",
              "      <td>4.527269</td>\n",
              "      <td>0.380245</td>\n",
              "      <td>-0.164926</td>\n",
              "      <td>-3.609592</td>\n",
              "      <td>4.482997</td>\n",
              "      <td>-4.341927</td>\n",
              "      <td>1.029870</td>\n",
              "      <td>-5.106150</td>\n",
              "    </tr>\n",
              "    <tr>\n",
              "      <th>2</th>\n",
              "      <td>1463</td>\n",
              "      <td>1.322860</td>\n",
              "      <td>-0.264295</td>\n",
              "      <td>-0.062508</td>\n",
              "      <td>0.119341</td>\n",
              "      <td>-0.901247</td>\n",
              "      <td>-0.928591</td>\n",
              "      <td>-1.452667</td>\n",
              "      <td>-0.941587</td>\n",
              "      <td>0.520487</td>\n",
              "    </tr>\n",
              "    <tr>\n",
              "      <th>3</th>\n",
              "      <td>1464</td>\n",
              "      <td>1.660101</td>\n",
              "      <td>-0.892430</td>\n",
              "      <td>0.152468</td>\n",
              "      <td>0.069633</td>\n",
              "      <td>-0.848668</td>\n",
              "      <td>-0.931085</td>\n",
              "      <td>-1.247245</td>\n",
              "      <td>-1.080364</td>\n",
              "      <td>0.401951</td>\n",
              "    </tr>\n",
              "    <tr>\n",
              "      <th>4</th>\n",
              "      <td>1465</td>\n",
              "      <td>1.625111</td>\n",
              "      <td>-1.352584</td>\n",
              "      <td>-1.014201</td>\n",
              "      <td>0.933080</td>\n",
              "      <td>0.909083</td>\n",
              "      <td>0.889300</td>\n",
              "      <td>0.012361</td>\n",
              "      <td>-0.658962</td>\n",
              "      <td>-0.220081</td>\n",
              "    </tr>\n",
              "    <tr>\n",
              "      <th>...</th>\n",
              "      <td>...</td>\n",
              "      <td>...</td>\n",
              "      <td>...</td>\n",
              "      <td>...</td>\n",
              "      <td>...</td>\n",
              "      <td>...</td>\n",
              "      <td>...</td>\n",
              "      <td>...</td>\n",
              "      <td>...</td>\n",
              "      <td>...</td>\n",
              "    </tr>\n",
              "    <tr>\n",
              "      <th>1454</th>\n",
              "      <td>2915</td>\n",
              "      <td>-3.620903</td>\n",
              "      <td>-2.790712</td>\n",
              "      <td>-3.363619</td>\n",
              "      <td>4.767495</td>\n",
              "      <td>0.025692</td>\n",
              "      <td>-0.614894</td>\n",
              "      <td>0.896904</td>\n",
              "      <td>0.421019</td>\n",
              "      <td>0.310746</td>\n",
              "    </tr>\n",
              "    <tr>\n",
              "      <th>1455</th>\n",
              "      <td>2916</td>\n",
              "      <td>-3.126838</td>\n",
              "      <td>-1.361859</td>\n",
              "      <td>-2.930625</td>\n",
              "      <td>4.739645</td>\n",
              "      <td>0.136463</td>\n",
              "      <td>1.109552</td>\n",
              "      <td>0.829375</td>\n",
              "      <td>0.782197</td>\n",
              "      <td>-0.457878</td>\n",
              "    </tr>\n",
              "    <tr>\n",
              "      <th>1456</th>\n",
              "      <td>2917</td>\n",
              "      <td>0.326616</td>\n",
              "      <td>1.654886</td>\n",
              "      <td>-1.212600</td>\n",
              "      <td>-0.062037</td>\n",
              "      <td>0.144765</td>\n",
              "      <td>-0.636868</td>\n",
              "      <td>0.195915</td>\n",
              "      <td>0.111032</td>\n",
              "      <td>-0.410890</td>\n",
              "    </tr>\n",
              "    <tr>\n",
              "      <th>1457</th>\n",
              "      <td>2918</td>\n",
              "      <td>-0.262395</td>\n",
              "      <td>2.067143</td>\n",
              "      <td>-2.151577</td>\n",
              "      <td>2.067703</td>\n",
              "      <td>-1.497648</td>\n",
              "      <td>0.857581</td>\n",
              "      <td>-3.198526</td>\n",
              "      <td>-0.079705</td>\n",
              "      <td>-2.805562</td>\n",
              "    </tr>\n",
              "    <tr>\n",
              "      <th>1458</th>\n",
              "      <td>2919</td>\n",
              "      <td>1.522597</td>\n",
              "      <td>-0.920791</td>\n",
              "      <td>-0.290417</td>\n",
              "      <td>0.529783</td>\n",
              "      <td>-0.341946</td>\n",
              "      <td>-0.629521</td>\n",
              "      <td>-1.039654</td>\n",
              "      <td>-0.664990</td>\n",
              "      <td>0.342010</td>\n",
              "    </tr>\n",
              "  </tbody>\n",
              "</table>\n",
              "<p>1459 rows × 10 columns</p>\n",
              "</div>\n",
              "    <div class=\"colab-df-buttons\">\n",
              "\n",
              "  <div class=\"colab-df-container\">\n",
              "    <button class=\"colab-df-convert\" onclick=\"convertToInteractive('df-6af6d558-bb85-43e1-bbc1-a5f5c8ce5962')\"\n",
              "            title=\"Convert this dataframe to an interactive table.\"\n",
              "            style=\"display:none;\">\n",
              "\n",
              "  <svg xmlns=\"http://www.w3.org/2000/svg\" height=\"24px\" viewBox=\"0 -960 960 960\">\n",
              "    <path d=\"M120-120v-720h720v720H120Zm60-500h600v-160H180v160Zm220 220h160v-160H400v160Zm0 220h160v-160H400v160ZM180-400h160v-160H180v160Zm440 0h160v-160H620v160ZM180-180h160v-160H180v160Zm440 0h160v-160H620v160Z\"/>\n",
              "  </svg>\n",
              "    </button>\n",
              "\n",
              "  <style>\n",
              "    .colab-df-container {\n",
              "      display:flex;\n",
              "      gap: 12px;\n",
              "    }\n",
              "\n",
              "    .colab-df-convert {\n",
              "      background-color: #E8F0FE;\n",
              "      border: none;\n",
              "      border-radius: 50%;\n",
              "      cursor: pointer;\n",
              "      display: none;\n",
              "      fill: #1967D2;\n",
              "      height: 32px;\n",
              "      padding: 0 0 0 0;\n",
              "      width: 32px;\n",
              "    }\n",
              "\n",
              "    .colab-df-convert:hover {\n",
              "      background-color: #E2EBFA;\n",
              "      box-shadow: 0px 1px 2px rgba(60, 64, 67, 0.3), 0px 1px 3px 1px rgba(60, 64, 67, 0.15);\n",
              "      fill: #174EA6;\n",
              "    }\n",
              "\n",
              "    .colab-df-buttons div {\n",
              "      margin-bottom: 4px;\n",
              "    }\n",
              "\n",
              "    [theme=dark] .colab-df-convert {\n",
              "      background-color: #3B4455;\n",
              "      fill: #D2E3FC;\n",
              "    }\n",
              "\n",
              "    [theme=dark] .colab-df-convert:hover {\n",
              "      background-color: #434B5C;\n",
              "      box-shadow: 0px 1px 3px 1px rgba(0, 0, 0, 0.15);\n",
              "      filter: drop-shadow(0px 1px 2px rgba(0, 0, 0, 0.3));\n",
              "      fill: #FFFFFF;\n",
              "    }\n",
              "  </style>\n",
              "\n",
              "    <script>\n",
              "      const buttonEl =\n",
              "        document.querySelector('#df-6af6d558-bb85-43e1-bbc1-a5f5c8ce5962 button.colab-df-convert');\n",
              "      buttonEl.style.display =\n",
              "        google.colab.kernel.accessAllowed ? 'block' : 'none';\n",
              "\n",
              "      async function convertToInteractive(key) {\n",
              "        const element = document.querySelector('#df-6af6d558-bb85-43e1-bbc1-a5f5c8ce5962');\n",
              "        const dataTable =\n",
              "          await google.colab.kernel.invokeFunction('convertToInteractive',\n",
              "                                                    [key], {});\n",
              "        if (!dataTable) return;\n",
              "\n",
              "        const docLinkHtml = 'Like what you see? Visit the ' +\n",
              "          '<a target=\"_blank\" href=https://colab.research.google.com/notebooks/data_table.ipynb>data table notebook</a>'\n",
              "          + ' to learn more about interactive tables.';\n",
              "        element.innerHTML = '';\n",
              "        dataTable['output_type'] = 'display_data';\n",
              "        await google.colab.output.renderOutput(dataTable, element);\n",
              "        const docLink = document.createElement('div');\n",
              "        docLink.innerHTML = docLinkHtml;\n",
              "        element.appendChild(docLink);\n",
              "      }\n",
              "    </script>\n",
              "  </div>\n",
              "\n",
              "\n",
              "<div id=\"df-679980bc-42bd-4b2c-a644-f05a66c24455\">\n",
              "  <button class=\"colab-df-quickchart\" onclick=\"quickchart('df-679980bc-42bd-4b2c-a644-f05a66c24455')\"\n",
              "            title=\"Suggest charts\"\n",
              "            style=\"display:none;\">\n",
              "\n",
              "<svg xmlns=\"http://www.w3.org/2000/svg\" height=\"24px\"viewBox=\"0 0 24 24\"\n",
              "     width=\"24px\">\n",
              "    <g>\n",
              "        <path d=\"M19 3H5c-1.1 0-2 .9-2 2v14c0 1.1.9 2 2 2h14c1.1 0 2-.9 2-2V5c0-1.1-.9-2-2-2zM9 17H7v-7h2v7zm4 0h-2V7h2v10zm4 0h-2v-4h2v4z\"/>\n",
              "    </g>\n",
              "</svg>\n",
              "  </button>\n",
              "\n",
              "<style>\n",
              "  .colab-df-quickchart {\n",
              "      --bg-color: #E8F0FE;\n",
              "      --fill-color: #1967D2;\n",
              "      --hover-bg-color: #E2EBFA;\n",
              "      --hover-fill-color: #174EA6;\n",
              "      --disabled-fill-color: #AAA;\n",
              "      --disabled-bg-color: #DDD;\n",
              "  }\n",
              "\n",
              "  [theme=dark] .colab-df-quickchart {\n",
              "      --bg-color: #3B4455;\n",
              "      --fill-color: #D2E3FC;\n",
              "      --hover-bg-color: #434B5C;\n",
              "      --hover-fill-color: #FFFFFF;\n",
              "      --disabled-bg-color: #3B4455;\n",
              "      --disabled-fill-color: #666;\n",
              "  }\n",
              "\n",
              "  .colab-df-quickchart {\n",
              "    background-color: var(--bg-color);\n",
              "    border: none;\n",
              "    border-radius: 50%;\n",
              "    cursor: pointer;\n",
              "    display: none;\n",
              "    fill: var(--fill-color);\n",
              "    height: 32px;\n",
              "    padding: 0;\n",
              "    width: 32px;\n",
              "  }\n",
              "\n",
              "  .colab-df-quickchart:hover {\n",
              "    background-color: var(--hover-bg-color);\n",
              "    box-shadow: 0 1px 2px rgba(60, 64, 67, 0.3), 0 1px 3px 1px rgba(60, 64, 67, 0.15);\n",
              "    fill: var(--button-hover-fill-color);\n",
              "  }\n",
              "\n",
              "  .colab-df-quickchart-complete:disabled,\n",
              "  .colab-df-quickchart-complete:disabled:hover {\n",
              "    background-color: var(--disabled-bg-color);\n",
              "    fill: var(--disabled-fill-color);\n",
              "    box-shadow: none;\n",
              "  }\n",
              "\n",
              "  .colab-df-spinner {\n",
              "    border: 2px solid var(--fill-color);\n",
              "    border-color: transparent;\n",
              "    border-bottom-color: var(--fill-color);\n",
              "    animation:\n",
              "      spin 1s steps(1) infinite;\n",
              "  }\n",
              "\n",
              "  @keyframes spin {\n",
              "    0% {\n",
              "      border-color: transparent;\n",
              "      border-bottom-color: var(--fill-color);\n",
              "      border-left-color: var(--fill-color);\n",
              "    }\n",
              "    20% {\n",
              "      border-color: transparent;\n",
              "      border-left-color: var(--fill-color);\n",
              "      border-top-color: var(--fill-color);\n",
              "    }\n",
              "    30% {\n",
              "      border-color: transparent;\n",
              "      border-left-color: var(--fill-color);\n",
              "      border-top-color: var(--fill-color);\n",
              "      border-right-color: var(--fill-color);\n",
              "    }\n",
              "    40% {\n",
              "      border-color: transparent;\n",
              "      border-right-color: var(--fill-color);\n",
              "      border-top-color: var(--fill-color);\n",
              "    }\n",
              "    60% {\n",
              "      border-color: transparent;\n",
              "      border-right-color: var(--fill-color);\n",
              "    }\n",
              "    80% {\n",
              "      border-color: transparent;\n",
              "      border-right-color: var(--fill-color);\n",
              "      border-bottom-color: var(--fill-color);\n",
              "    }\n",
              "    90% {\n",
              "      border-color: transparent;\n",
              "      border-bottom-color: var(--fill-color);\n",
              "    }\n",
              "  }\n",
              "</style>\n",
              "\n",
              "  <script>\n",
              "    async function quickchart(key) {\n",
              "      const quickchartButtonEl =\n",
              "        document.querySelector('#' + key + ' button');\n",
              "      quickchartButtonEl.disabled = true;  // To prevent multiple clicks.\n",
              "      quickchartButtonEl.classList.add('colab-df-spinner');\n",
              "      try {\n",
              "        const charts = await google.colab.kernel.invokeFunction(\n",
              "            'suggestCharts', [key], {});\n",
              "      } catch (error) {\n",
              "        console.error('Error during call to suggestCharts:', error);\n",
              "      }\n",
              "      quickchartButtonEl.classList.remove('colab-df-spinner');\n",
              "      quickchartButtonEl.classList.add('colab-df-quickchart-complete');\n",
              "    }\n",
              "    (() => {\n",
              "      let quickchartButtonEl =\n",
              "        document.querySelector('#df-679980bc-42bd-4b2c-a644-f05a66c24455 button');\n",
              "      quickchartButtonEl.style.display =\n",
              "        google.colab.kernel.accessAllowed ? 'block' : 'none';\n",
              "    })();\n",
              "  </script>\n",
              "</div>\n",
              "\n",
              "  <div id=\"id_ad271384-763c-44a7-82cd-a3a4bd0a1a2d\">\n",
              "    <style>\n",
              "      .colab-df-generate {\n",
              "        background-color: #E8F0FE;\n",
              "        border: none;\n",
              "        border-radius: 50%;\n",
              "        cursor: pointer;\n",
              "        display: none;\n",
              "        fill: #1967D2;\n",
              "        height: 32px;\n",
              "        padding: 0 0 0 0;\n",
              "        width: 32px;\n",
              "      }\n",
              "\n",
              "      .colab-df-generate:hover {\n",
              "        background-color: #E2EBFA;\n",
              "        box-shadow: 0px 1px 2px rgba(60, 64, 67, 0.3), 0px 1px 3px 1px rgba(60, 64, 67, 0.15);\n",
              "        fill: #174EA6;\n",
              "      }\n",
              "\n",
              "      [theme=dark] .colab-df-generate {\n",
              "        background-color: #3B4455;\n",
              "        fill: #D2E3FC;\n",
              "      }\n",
              "\n",
              "      [theme=dark] .colab-df-generate:hover {\n",
              "        background-color: #434B5C;\n",
              "        box-shadow: 0px 1px 3px 1px rgba(0, 0, 0, 0.15);\n",
              "        filter: drop-shadow(0px 1px 2px rgba(0, 0, 0, 0.3));\n",
              "        fill: #FFFFFF;\n",
              "      }\n",
              "    </style>\n",
              "    <button class=\"colab-df-generate\" onclick=\"generateWithVariable('test_pc_df')\"\n",
              "            title=\"Generate code using this dataframe.\"\n",
              "            style=\"display:none;\">\n",
              "\n",
              "  <svg xmlns=\"http://www.w3.org/2000/svg\" height=\"24px\"viewBox=\"0 0 24 24\"\n",
              "       width=\"24px\">\n",
              "    <path d=\"M7,19H8.4L18.45,9,17,7.55,7,17.6ZM5,21V16.75L18.45,3.32a2,2,0,0,1,2.83,0l1.4,1.43a1.91,1.91,0,0,1,.58,1.4,1.91,1.91,0,0,1-.58,1.4L9.25,21ZM18.45,9,17,7.55Zm-12,3A5.31,5.31,0,0,0,4.9,8.1,5.31,5.31,0,0,0,1,6.5,5.31,5.31,0,0,0,4.9,4.9,5.31,5.31,0,0,0,6.5,1,5.31,5.31,0,0,0,8.1,4.9,5.31,5.31,0,0,0,12,6.5,5.46,5.46,0,0,0,6.5,12Z\"/>\n",
              "  </svg>\n",
              "    </button>\n",
              "    <script>\n",
              "      (() => {\n",
              "      const buttonEl =\n",
              "        document.querySelector('#id_ad271384-763c-44a7-82cd-a3a4bd0a1a2d button.colab-df-generate');\n",
              "      buttonEl.style.display =\n",
              "        google.colab.kernel.accessAllowed ? 'block' : 'none';\n",
              "\n",
              "      buttonEl.onclick = () => {\n",
              "        google.colab.notebook.generateWithVariable('test_pc_df');\n",
              "      }\n",
              "      })();\n",
              "    </script>\n",
              "  </div>\n",
              "\n",
              "    </div>\n",
              "  </div>\n"
            ],
            "application/vnd.google.colaboratory.intrinsic+json": {
              "type": "dataframe",
              "variable_name": "test_pc_df",
              "summary": "{\n  \"name\": \"test_pc_df\",\n  \"rows\": 1459,\n  \"fields\": [\n    {\n      \"column\": \"Id\",\n      \"properties\": {\n        \"dtype\": \"number\",\n        \"std\": 421,\n        \"min\": 1461,\n        \"max\": 2919,\n        \"num_unique_values\": 1459,\n        \"samples\": [\n          2782,\n          2297,\n          1874\n        ],\n        \"semantic_type\": \"\",\n        \"description\": \"\"\n      }\n    },\n    {\n      \"column\": \"PC1\",\n      \"properties\": {\n        \"dtype\": \"number\",\n        \"std\": 2.540678316697112,\n        \"min\": -10.747190222545838,\n        \"max\": 6.289120466791715,\n        \"num_unique_values\": 1459,\n        \"samples\": [\n          -2.481842184298824,\n          3.100768065890088,\n          1.0792326841437774\n        ],\n        \"semantic_type\": \"\",\n        \"description\": \"\"\n      }\n    },\n    {\n      \"column\": \"PC2\",\n      \"properties\": {\n        \"dtype\": \"number\",\n        \"std\": 1.923691229941699,\n        \"min\": -5.9356263456872185,\n        \"max\": 7.101690687674627,\n        \"num_unique_values\": 1459,\n        \"samples\": [\n          -0.34123736360779977,\n          -3.813953687999433,\n          0.8533216866562235\n        ],\n        \"semantic_type\": \"\",\n        \"description\": \"\"\n      }\n    },\n    {\n      \"column\": \"PC3\",\n      \"properties\": {\n        \"dtype\": \"number\",\n        \"std\": 1.6588572939734698,\n        \"min\": -4.4344476376396535,\n        \"max\": 7.994386855685421,\n        \"num_unique_values\": 1459,\n        \"samples\": [\n          -1.5766341169874485,\n          2.4371039636652476,\n          -0.9617829057095929\n        ],\n        \"semantic_type\": \"\",\n        \"description\": \"\"\n      }\n    },\n    {\n      \"column\": \"PC4\",\n      \"properties\": {\n        \"dtype\": \"number\",\n        \"std\": 1.6580479876931153,\n        \"min\": -3.2590217921259406,\n        \"max\": 8.039655657822093,\n        \"num_unique_values\": 1459,\n        \"samples\": [\n          -0.9429713635048655,\n          -0.04721056015424728,\n          -0.692216897154783\n        ],\n        \"semantic_type\": \"\",\n        \"description\": \"\"\n      }\n    },\n    {\n      \"column\": \"PC5\",\n      \"properties\": {\n        \"dtype\": \"number\",\n        \"std\": 1.4535591572556297,\n        \"min\": -9.769430616594626,\n        \"max\": 12.396944012946541,\n        \"num_unique_values\": 1459,\n        \"samples\": [\n          0.7831831012324847,\n          -0.13607215466921002,\n          0.4180473347811866\n        ],\n        \"semantic_type\": \"\",\n        \"description\": \"\"\n      }\n    },\n    {\n      \"column\": \"PC6\",\n      \"properties\": {\n        \"dtype\": \"number\",\n        \"std\": 1.435147600827941,\n        \"min\": -3.5354781515189146,\n        \"max\": 8.54766288662427,\n        \"num_unique_values\": 1459,\n        \"samples\": [\n          -0.20251309142350402,\n          0.5564389775205311,\n          -0.9976239706496987\n        ],\n        \"semantic_type\": \"\",\n        \"description\": \"\"\n      }\n    },\n    {\n      \"column\": \"PC7\",\n      \"properties\": {\n        \"dtype\": \"number\",\n        \"std\": 1.2448384572016933,\n        \"min\": -7.564838764351469,\n        \"max\": 6.776208820676706,\n        \"num_unique_values\": 1459,\n        \"samples\": [\n          2.075188931185798,\n          -0.3635148614073956,\n          0.3852096053561791\n        ],\n        \"semantic_type\": \"\",\n        \"description\": \"\"\n      }\n    },\n    {\n      \"column\": \"PC8\",\n      \"properties\": {\n        \"dtype\": \"number\",\n        \"std\": 0.9354427440956651,\n        \"min\": -4.0723216294604505,\n        \"max\": 6.605388705952972,\n        \"num_unique_values\": 1459,\n        \"samples\": [\n          1.973787618755326,\n          0.06301530539617367,\n          -1.437062374777225\n        ],\n        \"semantic_type\": \"\",\n        \"description\": \"\"\n      }\n    },\n    {\n      \"column\": \"PC9\",\n      \"properties\": {\n        \"dtype\": \"number\",\n        \"std\": 1.134185255948153,\n        \"min\": -7.161080336557329,\n        \"max\": 8.56448421672424,\n        \"num_unique_values\": 1459,\n        \"samples\": [\n          -1.6803714257643054,\n          -0.9708739757009416,\n          -0.8200925776597923\n        ],\n        \"semantic_type\": \"\",\n        \"description\": \"\"\n      }\n    }\n  ]\n}"
            }
          },
          "metadata": {},
          "execution_count": 52
        }
      ]
    },
    {
      "cell_type": "markdown",
      "source": [
        "# **2. Model Development and Training**"
      ],
      "metadata": {
        "id": "4uRLFBrew7da"
      }
    },
    {
      "cell_type": "markdown",
      "source": [
        "## **Data Splitting**"
      ],
      "metadata": {
        "id": "z9mHpndxxABV"
      }
    },
    {
      "cell_type": "code",
      "source": [
        "from sklearn.model_selection import train_test_split\n",
        "\n",
        "X_train, X_val, y_train, y_val = train_test_split(\n",
        "    corr_train_df.drop(['Id', 'SalePrice'], axis=1),  # Features\n",
        "    corr_train_df['SalePrice'],  # Target variable\n",
        "    test_size=0.2,  # 20% for validation set\n",
        "    random_state=42\n",
        ")"
      ],
      "metadata": {
        "id": "XHaA9yEuw_iO"
      },
      "execution_count": 77,
      "outputs": []
    },
    {
      "cell_type": "markdown",
      "source": [
        "## **Algorithm Selection**"
      ],
      "metadata": {
        "id": "1FtiGiZhxFFI"
      }
    },
    {
      "cell_type": "code",
      "source": [
        "from sklearn.model_selection import train_test_split\n",
        "from sklearn.linear_model import LinearRegression\n",
        "from sklearn.tree import DecisionTreeRegressor\n",
        "from sklearn.ensemble import RandomForestRegressor, GradientBoostingRegressor\n",
        "from sklearn.svm import SVR\n",
        "import xgboost as xgb\n",
        "from sklearn.metrics import mean_absolute_error, mean_squared_error, r2_score\n",
        "\n",
        "models = {\n",
        "    'Linear Regression': LinearRegression(),\n",
        "    'Decision Tree': DecisionTreeRegressor(),\n",
        "    'Random Forest': RandomForestRegressor(),\n",
        "    'Support Vector Regression': SVR(),\n",
        "    'Gradient Boosting Regression': GradientBoostingRegressor(),\n",
        "    'XGBoost': xgb.XGBRegressor()\n",
        "}\n",
        "\n",
        "for name, model in models.items():\n",
        "    model.fit(X_train, y_train)\n",
        "    y_pred = model.predict(X_val)\n",
        "\n",
        "    mae = mean_absolute_error(y_val, y_pred)\n",
        "    mse = mean_squared_error(y_val, y_pred)\n",
        "    r2 = r2_score(y_val, y_pred)\n",
        "\n",
        "    print(f\"{name}:\")\n",
        "    print(f\"Mean Absolute Error: {mae:.2f}\")\n",
        "    print(f\"Mean Squared Error: {mse:.2f}\")\n",
        "    print(f\"R-squared: {r2:.2f}\")\n",
        "    print()"
      ],
      "metadata": {
        "id": "rBGfg3l0xzdY",
        "colab": {
          "base_uri": "https://localhost:8080/"
        },
        "outputId": "ec73e0b0-bf6f-4690-81ac-2baccbd60601"
      },
      "execution_count": 78,
      "outputs": [
        {
          "output_type": "stream",
          "name": "stdout",
          "text": [
            "Linear Regression:\n",
            "Mean Absolute Error: 39258.90\n",
            "Mean Squared Error: 3910805232.57\n",
            "R-squared: 0.49\n",
            "\n",
            "Decision Tree:\n",
            "Mean Absolute Error: 44356.40\n",
            "Mean Squared Error: 5312933734.23\n",
            "R-squared: 0.31\n",
            "\n",
            "Random Forest:\n",
            "Mean Absolute Error: 34401.23\n",
            "Mean Squared Error: 3283016308.59\n",
            "R-squared: 0.57\n",
            "\n",
            "Support Vector Regression:\n",
            "Mean Absolute Error: 59557.49\n",
            "Mean Squared Error: 7859482243.24\n",
            "R-squared: -0.02\n",
            "\n",
            "Gradient Boosting Regression:\n",
            "Mean Absolute Error: 34310.27\n",
            "Mean Squared Error: 2939697888.72\n",
            "R-squared: 0.62\n",
            "\n",
            "XGBoost:\n",
            "Mean Absolute Error: 36688.96\n",
            "Mean Squared Error: 3717918134.06\n",
            "R-squared: 0.52\n",
            "\n"
          ]
        }
      ]
    },
    {
      "cell_type": "code",
      "source": [
        "best_model = max(models, key=lambda x: models[x].score(X_val, y_val))\n",
        "print(f\"Best Model: {best_model}\")"
      ],
      "metadata": {
        "colab": {
          "base_uri": "https://localhost:8080/"
        },
        "id": "3qw2iNL5ASRT",
        "outputId": "792dd82f-cd8b-48cd-d380-5a4c29fb8620"
      },
      "execution_count": 79,
      "outputs": [
        {
          "output_type": "stream",
          "name": "stdout",
          "text": [
            "Best Model: Gradient Boosting Regression\n"
          ]
        }
      ]
    },
    {
      "cell_type": "markdown",
      "source": [
        "## **Model Training**"
      ],
      "metadata": {
        "id": "LgHqVoboxy4L"
      }
    },
    {
      "cell_type": "code",
      "source": [
        "from sklearn.ensemble import GradientBoostingRegressor\n",
        "from sklearn.metrics import mean_squared_error, r2_score\n",
        "\n",
        "model = GradientBoostingRegressor()\n",
        "model.fit(X_train, y_train)\n",
        "\n",
        "y_pred = model.predict(X_val)"
      ],
      "metadata": {
        "id": "syWczbP3yLKg"
      },
      "execution_count": 89,
      "outputs": []
    },
    {
      "cell_type": "markdown",
      "source": [
        "## **Model Validation**"
      ],
      "metadata": {
        "id": "SiCsLg3GyLcq"
      }
    },
    {
      "cell_type": "code",
      "source": [
        "mse = mean_squared_error(y_val, y_pred)\n",
        "r2 = r2_score(y_val, y_pred)\n",
        "\n",
        "print(f\"Mean Squared Error: {mse:.2f}\")\n",
        "print(f\"R-squared: {r2:.2f}\")"
      ],
      "metadata": {
        "colab": {
          "base_uri": "https://localhost:8080/"
        },
        "id": "u5bwgRn7Ngxz",
        "outputId": "5557ccc7-59d3-43a6-c952-ac2e9b57ffcb"
      },
      "execution_count": 90,
      "outputs": [
        {
          "output_type": "stream",
          "name": "stdout",
          "text": [
            "Mean Squared Error: 2938384913.03\n",
            "R-squared: 0.62\n"
          ]
        }
      ]
    },
    {
      "cell_type": "markdown",
      "source": [
        "## **Hyperparameter Tuning**"
      ],
      "metadata": {
        "id": "737dUElRNrfU"
      }
    },
    {
      "cell_type": "code",
      "source": [
        "from sklearn.model_selection import GridSearchCV\n",
        "\n",
        "param_grid = {\n",
        "    'n_estimators': [100, 200, 300],\n",
        "    'learning_rate': [0.1, 0.05, 0.01],\n",
        "    'max_depth': [3, 5, 7]\n",
        "}\n",
        "\n",
        "grid_search = GridSearchCV(GradientBoostingRegressor(), param_grid, cv=5)\n",
        "grid_search.fit(X_train, y_train)\n",
        "\n",
        "best_model = grid_search.best_estimator_\n",
        "best_model.fit(X_train, y_train)\n",
        "y_pred = best_model.predict(X_val)"
      ],
      "metadata": {
        "id": "uWrjtA8-EHgD"
      },
      "execution_count": 91,
      "outputs": []
    },
    {
      "cell_type": "code",
      "source": [
        "grid_search.best_params_"
      ],
      "metadata": {
        "colab": {
          "base_uri": "https://localhost:8080/"
        },
        "id": "Bf3R-Re_MEcG",
        "outputId": "02117d91-79d0-451e-dca9-692068b6ddd9"
      },
      "execution_count": 92,
      "outputs": [
        {
          "output_type": "execute_result",
          "data": {
            "text/plain": [
              "{'learning_rate': 0.05, 'max_depth': 3, 'n_estimators': 300}"
            ]
          },
          "metadata": {},
          "execution_count": 92
        }
      ]
    },
    {
      "cell_type": "markdown",
      "source": [
        "# **3. Model Evaluation**"
      ],
      "metadata": {
        "id": "kyoqaU2QyQL2"
      }
    },
    {
      "cell_type": "code",
      "source": [
        "best_model = grid_search.best_estimator_\n",
        "best_model.fit(X_train, y_train)\n",
        "y_pred_new = best_model.predict(X_val)"
      ],
      "metadata": {
        "id": "drtmV9qnMkti"
      },
      "execution_count": 93,
      "outputs": []
    },
    {
      "cell_type": "code",
      "source": [
        "mse_new = mean_squared_error(y_val, y_pred_new)\n",
        "r2_new = r2_score(y_val, y_pred_new)\n",
        "\n",
        "print(f\"Best Model: Gradient Boosting Regressor\")\n",
        "print(f\"Mean Squared Error: {mse_new:.2f}\")\n",
        "print(f\"R-squared: {r2_new:.2f}\")"
      ],
      "metadata": {
        "colab": {
          "base_uri": "https://localhost:8080/"
        },
        "id": "9PUMhPNnEgUd",
        "outputId": "40d5523e-9612-48a8-bccc-57bf933eaf10"
      },
      "execution_count": 94,
      "outputs": [
        {
          "output_type": "stream",
          "name": "stdout",
          "text": [
            "Best Model: Gradient Boosting Regressor\n",
            "Mean Squared Error: 2925955980.65\n",
            "R-squared: 0.62\n"
          ]
        }
      ]
    },
    {
      "cell_type": "code",
      "source": [
        "X_train.head()"
      ],
      "metadata": {
        "id": "9tBqJtP-yPz7",
        "colab": {
          "base_uri": "https://localhost:8080/",
          "height": 273
        },
        "outputId": "59d79095-b1e5-422d-d9ac-a40f70f21a63"
      },
      "execution_count": 98,
      "outputs": [
        {
          "output_type": "execute_result",
          "data": {
            "text/plain": [
              "      LotArea  BedroomAbvGr  GarageArea  MSZoning_C (all)  MSZoning_FV  \\\n",
              "254      8400             3         294                 0            0   \n",
              "1066     7837             3         380                 0            0   \n",
              "638      8777             2           0                 0            0   \n",
              "799      7200             3         240                 0            0   \n",
              "380      5000             3         308                 0            0   \n",
              "\n",
              "      MSZoning_RH  MSZoning_RL  MSZoning_RM  BldgType_1Fam  BldgType_2fmCon  \\\n",
              "254             0            1            0              1                0   \n",
              "1066            0            1            0              1                0   \n",
              "638             0            1            0              1                0   \n",
              "799             0            1            0              1                0   \n",
              "380             0            1            0              1                0   \n",
              "\n",
              "      ...  BldgType_Twnhs  BldgType_TwnhsE  HouseStyle_1.5Fin  \\\n",
              "254   ...               0                0                  0   \n",
              "1066  ...               0                0                  0   \n",
              "638   ...               0                0                  0   \n",
              "799   ...               0                0                  1   \n",
              "380   ...               0                0                  1   \n",
              "\n",
              "      HouseStyle_1.5Unf  HouseStyle_1Story  HouseStyle_2.5Fin  \\\n",
              "254                   0                  1                  0   \n",
              "1066                  0                  0                  0   \n",
              "638                   0                  1                  0   \n",
              "799                   0                  0                  0   \n",
              "380                   0                  0                  0   \n",
              "\n",
              "      HouseStyle_2.5Unf  HouseStyle_2Story  HouseStyle_SFoyer  HouseStyle_SLvl  \n",
              "254                   0                  0                  0                0  \n",
              "1066                  0                  1                  0                0  \n",
              "638                   0                  0                  0                0  \n",
              "799                   0                  0                  0                0  \n",
              "380                   0                  0                  0                0  \n",
              "\n",
              "[5 rows x 21 columns]"
            ],
            "text/html": [
              "\n",
              "  <div id=\"df-05ed81d8-16e9-4856-ad34-554cd2e52f2d\" class=\"colab-df-container\">\n",
              "    <div>\n",
              "<style scoped>\n",
              "    .dataframe tbody tr th:only-of-type {\n",
              "        vertical-align: middle;\n",
              "    }\n",
              "\n",
              "    .dataframe tbody tr th {\n",
              "        vertical-align: top;\n",
              "    }\n",
              "\n",
              "    .dataframe thead th {\n",
              "        text-align: right;\n",
              "    }\n",
              "</style>\n",
              "<table border=\"1\" class=\"dataframe\">\n",
              "  <thead>\n",
              "    <tr style=\"text-align: right;\">\n",
              "      <th></th>\n",
              "      <th>LotArea</th>\n",
              "      <th>BedroomAbvGr</th>\n",
              "      <th>GarageArea</th>\n",
              "      <th>MSZoning_C (all)</th>\n",
              "      <th>MSZoning_FV</th>\n",
              "      <th>MSZoning_RH</th>\n",
              "      <th>MSZoning_RL</th>\n",
              "      <th>MSZoning_RM</th>\n",
              "      <th>BldgType_1Fam</th>\n",
              "      <th>BldgType_2fmCon</th>\n",
              "      <th>...</th>\n",
              "      <th>BldgType_Twnhs</th>\n",
              "      <th>BldgType_TwnhsE</th>\n",
              "      <th>HouseStyle_1.5Fin</th>\n",
              "      <th>HouseStyle_1.5Unf</th>\n",
              "      <th>HouseStyle_1Story</th>\n",
              "      <th>HouseStyle_2.5Fin</th>\n",
              "      <th>HouseStyle_2.5Unf</th>\n",
              "      <th>HouseStyle_2Story</th>\n",
              "      <th>HouseStyle_SFoyer</th>\n",
              "      <th>HouseStyle_SLvl</th>\n",
              "    </tr>\n",
              "  </thead>\n",
              "  <tbody>\n",
              "    <tr>\n",
              "      <th>254</th>\n",
              "      <td>8400</td>\n",
              "      <td>3</td>\n",
              "      <td>294</td>\n",
              "      <td>0</td>\n",
              "      <td>0</td>\n",
              "      <td>0</td>\n",
              "      <td>1</td>\n",
              "      <td>0</td>\n",
              "      <td>1</td>\n",
              "      <td>0</td>\n",
              "      <td>...</td>\n",
              "      <td>0</td>\n",
              "      <td>0</td>\n",
              "      <td>0</td>\n",
              "      <td>0</td>\n",
              "      <td>1</td>\n",
              "      <td>0</td>\n",
              "      <td>0</td>\n",
              "      <td>0</td>\n",
              "      <td>0</td>\n",
              "      <td>0</td>\n",
              "    </tr>\n",
              "    <tr>\n",
              "      <th>1066</th>\n",
              "      <td>7837</td>\n",
              "      <td>3</td>\n",
              "      <td>380</td>\n",
              "      <td>0</td>\n",
              "      <td>0</td>\n",
              "      <td>0</td>\n",
              "      <td>1</td>\n",
              "      <td>0</td>\n",
              "      <td>1</td>\n",
              "      <td>0</td>\n",
              "      <td>...</td>\n",
              "      <td>0</td>\n",
              "      <td>0</td>\n",
              "      <td>0</td>\n",
              "      <td>0</td>\n",
              "      <td>0</td>\n",
              "      <td>0</td>\n",
              "      <td>0</td>\n",
              "      <td>1</td>\n",
              "      <td>0</td>\n",
              "      <td>0</td>\n",
              "    </tr>\n",
              "    <tr>\n",
              "      <th>638</th>\n",
              "      <td>8777</td>\n",
              "      <td>2</td>\n",
              "      <td>0</td>\n",
              "      <td>0</td>\n",
              "      <td>0</td>\n",
              "      <td>0</td>\n",
              "      <td>1</td>\n",
              "      <td>0</td>\n",
              "      <td>1</td>\n",
              "      <td>0</td>\n",
              "      <td>...</td>\n",
              "      <td>0</td>\n",
              "      <td>0</td>\n",
              "      <td>0</td>\n",
              "      <td>0</td>\n",
              "      <td>1</td>\n",
              "      <td>0</td>\n",
              "      <td>0</td>\n",
              "      <td>0</td>\n",
              "      <td>0</td>\n",
              "      <td>0</td>\n",
              "    </tr>\n",
              "    <tr>\n",
              "      <th>799</th>\n",
              "      <td>7200</td>\n",
              "      <td>3</td>\n",
              "      <td>240</td>\n",
              "      <td>0</td>\n",
              "      <td>0</td>\n",
              "      <td>0</td>\n",
              "      <td>1</td>\n",
              "      <td>0</td>\n",
              "      <td>1</td>\n",
              "      <td>0</td>\n",
              "      <td>...</td>\n",
              "      <td>0</td>\n",
              "      <td>0</td>\n",
              "      <td>1</td>\n",
              "      <td>0</td>\n",
              "      <td>0</td>\n",
              "      <td>0</td>\n",
              "      <td>0</td>\n",
              "      <td>0</td>\n",
              "      <td>0</td>\n",
              "      <td>0</td>\n",
              "    </tr>\n",
              "    <tr>\n",
              "      <th>380</th>\n",
              "      <td>5000</td>\n",
              "      <td>3</td>\n",
              "      <td>308</td>\n",
              "      <td>0</td>\n",
              "      <td>0</td>\n",
              "      <td>0</td>\n",
              "      <td>1</td>\n",
              "      <td>0</td>\n",
              "      <td>1</td>\n",
              "      <td>0</td>\n",
              "      <td>...</td>\n",
              "      <td>0</td>\n",
              "      <td>0</td>\n",
              "      <td>1</td>\n",
              "      <td>0</td>\n",
              "      <td>0</td>\n",
              "      <td>0</td>\n",
              "      <td>0</td>\n",
              "      <td>0</td>\n",
              "      <td>0</td>\n",
              "      <td>0</td>\n",
              "    </tr>\n",
              "  </tbody>\n",
              "</table>\n",
              "<p>5 rows × 21 columns</p>\n",
              "</div>\n",
              "    <div class=\"colab-df-buttons\">\n",
              "\n",
              "  <div class=\"colab-df-container\">\n",
              "    <button class=\"colab-df-convert\" onclick=\"convertToInteractive('df-05ed81d8-16e9-4856-ad34-554cd2e52f2d')\"\n",
              "            title=\"Convert this dataframe to an interactive table.\"\n",
              "            style=\"display:none;\">\n",
              "\n",
              "  <svg xmlns=\"http://www.w3.org/2000/svg\" height=\"24px\" viewBox=\"0 -960 960 960\">\n",
              "    <path d=\"M120-120v-720h720v720H120Zm60-500h600v-160H180v160Zm220 220h160v-160H400v160Zm0 220h160v-160H400v160ZM180-400h160v-160H180v160Zm440 0h160v-160H620v160ZM180-180h160v-160H180v160Zm440 0h160v-160H620v160Z\"/>\n",
              "  </svg>\n",
              "    </button>\n",
              "\n",
              "  <style>\n",
              "    .colab-df-container {\n",
              "      display:flex;\n",
              "      gap: 12px;\n",
              "    }\n",
              "\n",
              "    .colab-df-convert {\n",
              "      background-color: #E8F0FE;\n",
              "      border: none;\n",
              "      border-radius: 50%;\n",
              "      cursor: pointer;\n",
              "      display: none;\n",
              "      fill: #1967D2;\n",
              "      height: 32px;\n",
              "      padding: 0 0 0 0;\n",
              "      width: 32px;\n",
              "    }\n",
              "\n",
              "    .colab-df-convert:hover {\n",
              "      background-color: #E2EBFA;\n",
              "      box-shadow: 0px 1px 2px rgba(60, 64, 67, 0.3), 0px 1px 3px 1px rgba(60, 64, 67, 0.15);\n",
              "      fill: #174EA6;\n",
              "    }\n",
              "\n",
              "    .colab-df-buttons div {\n",
              "      margin-bottom: 4px;\n",
              "    }\n",
              "\n",
              "    [theme=dark] .colab-df-convert {\n",
              "      background-color: #3B4455;\n",
              "      fill: #D2E3FC;\n",
              "    }\n",
              "\n",
              "    [theme=dark] .colab-df-convert:hover {\n",
              "      background-color: #434B5C;\n",
              "      box-shadow: 0px 1px 3px 1px rgba(0, 0, 0, 0.15);\n",
              "      filter: drop-shadow(0px 1px 2px rgba(0, 0, 0, 0.3));\n",
              "      fill: #FFFFFF;\n",
              "    }\n",
              "  </style>\n",
              "\n",
              "    <script>\n",
              "      const buttonEl =\n",
              "        document.querySelector('#df-05ed81d8-16e9-4856-ad34-554cd2e52f2d button.colab-df-convert');\n",
              "      buttonEl.style.display =\n",
              "        google.colab.kernel.accessAllowed ? 'block' : 'none';\n",
              "\n",
              "      async function convertToInteractive(key) {\n",
              "        const element = document.querySelector('#df-05ed81d8-16e9-4856-ad34-554cd2e52f2d');\n",
              "        const dataTable =\n",
              "          await google.colab.kernel.invokeFunction('convertToInteractive',\n",
              "                                                    [key], {});\n",
              "        if (!dataTable) return;\n",
              "\n",
              "        const docLinkHtml = 'Like what you see? Visit the ' +\n",
              "          '<a target=\"_blank\" href=https://colab.research.google.com/notebooks/data_table.ipynb>data table notebook</a>'\n",
              "          + ' to learn more about interactive tables.';\n",
              "        element.innerHTML = '';\n",
              "        dataTable['output_type'] = 'display_data';\n",
              "        await google.colab.output.renderOutput(dataTable, element);\n",
              "        const docLink = document.createElement('div');\n",
              "        docLink.innerHTML = docLinkHtml;\n",
              "        element.appendChild(docLink);\n",
              "      }\n",
              "    </script>\n",
              "  </div>\n",
              "\n",
              "\n",
              "<div id=\"df-480e63dd-23e2-418a-b10c-77c82caec249\">\n",
              "  <button class=\"colab-df-quickchart\" onclick=\"quickchart('df-480e63dd-23e2-418a-b10c-77c82caec249')\"\n",
              "            title=\"Suggest charts\"\n",
              "            style=\"display:none;\">\n",
              "\n",
              "<svg xmlns=\"http://www.w3.org/2000/svg\" height=\"24px\"viewBox=\"0 0 24 24\"\n",
              "     width=\"24px\">\n",
              "    <g>\n",
              "        <path d=\"M19 3H5c-1.1 0-2 .9-2 2v14c0 1.1.9 2 2 2h14c1.1 0 2-.9 2-2V5c0-1.1-.9-2-2-2zM9 17H7v-7h2v7zm4 0h-2V7h2v10zm4 0h-2v-4h2v4z\"/>\n",
              "    </g>\n",
              "</svg>\n",
              "  </button>\n",
              "\n",
              "<style>\n",
              "  .colab-df-quickchart {\n",
              "      --bg-color: #E8F0FE;\n",
              "      --fill-color: #1967D2;\n",
              "      --hover-bg-color: #E2EBFA;\n",
              "      --hover-fill-color: #174EA6;\n",
              "      --disabled-fill-color: #AAA;\n",
              "      --disabled-bg-color: #DDD;\n",
              "  }\n",
              "\n",
              "  [theme=dark] .colab-df-quickchart {\n",
              "      --bg-color: #3B4455;\n",
              "      --fill-color: #D2E3FC;\n",
              "      --hover-bg-color: #434B5C;\n",
              "      --hover-fill-color: #FFFFFF;\n",
              "      --disabled-bg-color: #3B4455;\n",
              "      --disabled-fill-color: #666;\n",
              "  }\n",
              "\n",
              "  .colab-df-quickchart {\n",
              "    background-color: var(--bg-color);\n",
              "    border: none;\n",
              "    border-radius: 50%;\n",
              "    cursor: pointer;\n",
              "    display: none;\n",
              "    fill: var(--fill-color);\n",
              "    height: 32px;\n",
              "    padding: 0;\n",
              "    width: 32px;\n",
              "  }\n",
              "\n",
              "  .colab-df-quickchart:hover {\n",
              "    background-color: var(--hover-bg-color);\n",
              "    box-shadow: 0 1px 2px rgba(60, 64, 67, 0.3), 0 1px 3px 1px rgba(60, 64, 67, 0.15);\n",
              "    fill: var(--button-hover-fill-color);\n",
              "  }\n",
              "\n",
              "  .colab-df-quickchart-complete:disabled,\n",
              "  .colab-df-quickchart-complete:disabled:hover {\n",
              "    background-color: var(--disabled-bg-color);\n",
              "    fill: var(--disabled-fill-color);\n",
              "    box-shadow: none;\n",
              "  }\n",
              "\n",
              "  .colab-df-spinner {\n",
              "    border: 2px solid var(--fill-color);\n",
              "    border-color: transparent;\n",
              "    border-bottom-color: var(--fill-color);\n",
              "    animation:\n",
              "      spin 1s steps(1) infinite;\n",
              "  }\n",
              "\n",
              "  @keyframes spin {\n",
              "    0% {\n",
              "      border-color: transparent;\n",
              "      border-bottom-color: var(--fill-color);\n",
              "      border-left-color: var(--fill-color);\n",
              "    }\n",
              "    20% {\n",
              "      border-color: transparent;\n",
              "      border-left-color: var(--fill-color);\n",
              "      border-top-color: var(--fill-color);\n",
              "    }\n",
              "    30% {\n",
              "      border-color: transparent;\n",
              "      border-left-color: var(--fill-color);\n",
              "      border-top-color: var(--fill-color);\n",
              "      border-right-color: var(--fill-color);\n",
              "    }\n",
              "    40% {\n",
              "      border-color: transparent;\n",
              "      border-right-color: var(--fill-color);\n",
              "      border-top-color: var(--fill-color);\n",
              "    }\n",
              "    60% {\n",
              "      border-color: transparent;\n",
              "      border-right-color: var(--fill-color);\n",
              "    }\n",
              "    80% {\n",
              "      border-color: transparent;\n",
              "      border-right-color: var(--fill-color);\n",
              "      border-bottom-color: var(--fill-color);\n",
              "    }\n",
              "    90% {\n",
              "      border-color: transparent;\n",
              "      border-bottom-color: var(--fill-color);\n",
              "    }\n",
              "  }\n",
              "</style>\n",
              "\n",
              "  <script>\n",
              "    async function quickchart(key) {\n",
              "      const quickchartButtonEl =\n",
              "        document.querySelector('#' + key + ' button');\n",
              "      quickchartButtonEl.disabled = true;  // To prevent multiple clicks.\n",
              "      quickchartButtonEl.classList.add('colab-df-spinner');\n",
              "      try {\n",
              "        const charts = await google.colab.kernel.invokeFunction(\n",
              "            'suggestCharts', [key], {});\n",
              "      } catch (error) {\n",
              "        console.error('Error during call to suggestCharts:', error);\n",
              "      }\n",
              "      quickchartButtonEl.classList.remove('colab-df-spinner');\n",
              "      quickchartButtonEl.classList.add('colab-df-quickchart-complete');\n",
              "    }\n",
              "    (() => {\n",
              "      let quickchartButtonEl =\n",
              "        document.querySelector('#df-480e63dd-23e2-418a-b10c-77c82caec249 button');\n",
              "      quickchartButtonEl.style.display =\n",
              "        google.colab.kernel.accessAllowed ? 'block' : 'none';\n",
              "    })();\n",
              "  </script>\n",
              "</div>\n",
              "\n",
              "    </div>\n",
              "  </div>\n"
            ],
            "application/vnd.google.colaboratory.intrinsic+json": {
              "type": "dataframe",
              "variable_name": "X_train"
            }
          },
          "metadata": {},
          "execution_count": 98
        }
      ]
    },
    {
      "cell_type": "code",
      "source": [
        "X_train.info()"
      ],
      "metadata": {
        "id": "UBVANH73zp2o",
        "colab": {
          "base_uri": "https://localhost:8080/"
        },
        "outputId": "0649a734-e07d-4a29-9663-85edde85a008"
      },
      "execution_count": 104,
      "outputs": [
        {
          "output_type": "stream",
          "name": "stdout",
          "text": [
            "<class 'pandas.core.frame.DataFrame'>\n",
            "Index: 1168 entries, 254 to 1126\n",
            "Data columns (total 21 columns):\n",
            " #   Column             Non-Null Count  Dtype\n",
            "---  ------             --------------  -----\n",
            " 0   LotArea            1168 non-null   int64\n",
            " 1   BedroomAbvGr       1168 non-null   int64\n",
            " 2   GarageArea         1168 non-null   int64\n",
            " 3   MSZoning_C (all)   1168 non-null   int64\n",
            " 4   MSZoning_FV        1168 non-null   int64\n",
            " 5   MSZoning_RH        1168 non-null   int64\n",
            " 6   MSZoning_RL        1168 non-null   int64\n",
            " 7   MSZoning_RM        1168 non-null   int64\n",
            " 8   BldgType_1Fam      1168 non-null   int64\n",
            " 9   BldgType_2fmCon    1168 non-null   int64\n",
            " 10  BldgType_Duplex    1168 non-null   int64\n",
            " 11  BldgType_Twnhs     1168 non-null   int64\n",
            " 12  BldgType_TwnhsE    1168 non-null   int64\n",
            " 13  HouseStyle_1.5Fin  1168 non-null   int64\n",
            " 14  HouseStyle_1.5Unf  1168 non-null   int64\n",
            " 15  HouseStyle_1Story  1168 non-null   int64\n",
            " 16  HouseStyle_2.5Fin  1168 non-null   int64\n",
            " 17  HouseStyle_2.5Unf  1168 non-null   int64\n",
            " 18  HouseStyle_2Story  1168 non-null   int64\n",
            " 19  HouseStyle_SFoyer  1168 non-null   int64\n",
            " 20  HouseStyle_SLvl    1168 non-null   int64\n",
            "dtypes: int64(21)\n",
            "memory usage: 200.8 KB\n"
          ]
        }
      ]
    },
    {
      "cell_type": "code",
      "source": [
        "corr_test_df.columns"
      ],
      "metadata": {
        "colab": {
          "base_uri": "https://localhost:8080/"
        },
        "id": "-_9K0z8PPhpx",
        "outputId": "bede2774-3501-4a46-adf2-28d675d8e776"
      },
      "execution_count": 106,
      "outputs": [
        {
          "output_type": "execute_result",
          "data": {
            "text/plain": [
              "Index(['Id', 'LotArea', 'BedroomAbvGr', 'GarageArea', 'MSZoning_C (all)',\n",
              "       'MSZoning_FV', 'MSZoning_RH', 'MSZoning_RL', 'MSZoning_RM',\n",
              "       'BldgType_1Fam', 'BldgType_2fmCon', 'BldgType_Duplex', 'BldgType_Twnhs',\n",
              "       'BldgType_TwnhsE', 'HouseStyle_1.5Fin', 'HouseStyle_1.5Unf',\n",
              "       'HouseStyle_1Story', 'HouseStyle_2.5Unf', 'HouseStyle_2Story',\n",
              "       'HouseStyle_SFoyer', 'HouseStyle_SLvl', 'HouseStyle_2.5Fin'],\n",
              "      dtype='object')"
            ]
          },
          "metadata": {},
          "execution_count": 106
        }
      ]
    },
    {
      "cell_type": "markdown",
      "source": [
        "# **4. Model Serialization**"
      ],
      "metadata": {
        "id": "2k2YGJtbyUF6"
      }
    },
    {
      "cell_type": "markdown",
      "source": [
        "## **Saving the Model**"
      ],
      "metadata": {
        "id": "KEb6Uxw90Te4"
      }
    },
    {
      "cell_type": "code",
      "source": [
        "import joblib\n",
        "\n",
        "joblib.dump(best_model, 'model.joblib')"
      ],
      "metadata": {
        "id": "h94yM6FKzoTi",
        "colab": {
          "base_uri": "https://localhost:8080/"
        },
        "outputId": "bb6b6ec4-b9a6-4e94-cdba-de1608fb65fa"
      },
      "execution_count": 107,
      "outputs": [
        {
          "output_type": "execute_result",
          "data": {
            "text/plain": [
              "['model.joblib']"
            ]
          },
          "metadata": {},
          "execution_count": 107
        }
      ]
    },
    {
      "cell_type": "code",
      "source": [
        "import sklearn\n",
        "print(sklearn.__version__)"
      ],
      "metadata": {
        "colab": {
          "base_uri": "https://localhost:8080/"
        },
        "id": "yMWYGbcYXFdX",
        "outputId": "eebdd29a-b416-4797-cb45-88469f113ba4"
      },
      "execution_count": 108,
      "outputs": [
        {
          "output_type": "stream",
          "name": "stdout",
          "text": [
            "1.5.2\n"
          ]
        }
      ]
    }
  ]
}